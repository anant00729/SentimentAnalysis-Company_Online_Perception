{
 "cells": [
  {
   "cell_type": "code",
   "execution_count": 27,
   "metadata": {
    "id": "hPaymVNHhznp"
   },
   "outputs": [],
   "source": [
    "import keras\n",
    "import pandas as pd\n",
    "from keras.preprocessing.text import Tokenizer\n",
    "from tensorflow.keras.preprocessing.sequence import pad_sequences"
   ]
  },
  {
   "cell_type": "code",
   "execution_count": 28,
   "metadata": {
    "colab": {
     "base_uri": "https://localhost:8080/"
    },
    "id": "80oaYYcDiDzX",
    "outputId": "64ff41bb-9522-45ab-ebc1-9e66c41b5756"
   },
   "outputs": [
    {
     "name": "stdout",
     "output_type": "stream",
     "text": [
      "[[   1  320   28 ...    0    0    0]\n",
      " [ 474  680   16 ...    0    0    0]\n",
      " [ 777 2411   67 ...    0    0    0]\n",
      " ...\n",
      " [  15   58  139 ...    0    0    0]\n",
      " [  63   67   19 ...    0    0    0]\n",
      " [ 139  294   31 ...    0    0    0]]\n"
     ]
    }
   ],
   "source": [
    "train_data_path = 'data/train_4000.csv'\n",
    "test_data_path = 'data/twitter_scraped_cleaned.csv'\n",
    "\n",
    "first_n_words = 200\n",
    "\n",
    "# Read raw data\n",
    "df_train = pd.read_csv(train_data_path)\n",
    "df_test = pd.read_csv(test_data_path)\n",
    "\n",
    "train_sentences = df_train['sequence'].values\n",
    "test_sentences = df_test['text'].values\n",
    "\n",
    "# Hyperparameters of the model\n",
    "vocab_size = 3000 # choose based on statistics\n",
    "oov_tok = ''\n",
    "embedding_dim = 100\n",
    "max_length = 100 # choose based on statistics, for example 100 to 200\n",
    "padding_type='post'\n",
    "trunc_type='post'\n",
    "\n",
    "# tokenize sentences\n",
    "tokenizer = Tokenizer(num_words = vocab_size, oov_token=oov_tok)\n",
    "tokenizer.fit_on_texts(train_sentences)\n",
    "word_index = tokenizer.word_index\n",
    "\n",
    "# convert Test dataset to sequence and pad sequences\n",
    "test_sequences = tokenizer.texts_to_sequences(test_sentences)\n",
    "test_padded = pad_sequences(test_sequences, padding='post', maxlen=max_length)\n",
    "\n",
    "print(test_padded)"
   ]
  },
  {
   "cell_type": "code",
   "execution_count": 29,
   "metadata": {
    "colab": {
     "base_uri": "https://localhost:8080/"
    },
    "id": "F72iv9JfiAYZ",
    "outputId": "b4758ad9-253d-4dd6-cc47-3f47eebc7cf7"
   },
   "outputs": [
    {
     "name": "stdout",
     "output_type": "stream",
     "text": [
      "1725/1725 [==============================] - 17s 10ms/step\n"
     ]
    }
   ],
   "source": [
    "# It can be used to reconstruct the model identically.\n",
    "model = keras.models.load_model(\"checkpoints/lstm-base-uncased_4000_0_best.h5\")\n",
    "\n",
    "prediction = model.predict(test_padded)\n",
    "# Get labels based on probability 1 if p>= 0.5 else 0\n",
    "\n",
    "pred_labels = []\n",
    "for i in prediction:\n",
    "    if i >= 0.5:\n",
    "        pred_labels.append(1)\n",
    "    else:\n",
    "        pred_labels.append(0)\n",
    "df_test['predicted'] = pred_labels\n",
    "df_test['confidence'] = prediction"
   ]
  },
  {
   "cell_type": "code",
   "execution_count": 30,
   "metadata": {
    "colab": {
     "base_uri": "https://localhost:8080/",
     "height": 424
    },
    "id": "9OfLQmbYpnQ9",
    "outputId": "2eb64c88-fdba-4bd7-82c8-fe1f466767ef"
   },
   "outputs": [
    {
     "data": {
      "text/plain": "       Unnamed: 0 twitter_handle  \\\n0               0        YouTube   \n1               1        YouTube   \n2               2        YouTube   \n3               3        YouTube   \n4               4        YouTube   \n...           ...            ...   \n55168       55168          Apple   \n55169       55169          Apple   \n55170       55170          Apple   \n55171       55171          Apple   \n55172       55172          Apple   \n\n                                                    text        date  \\\n0      coachella gonna be insane this year april 15 &...  2023-03-14   \n1      stay playing with fire kill this love as if it...  2023-03-14   \n2                    omg imagine if this was the setlist  2023-03-14   \n3                                               new song  2023-03-14   \n4      omg if they drop a new song during their coach...  2023-03-14   \n...                                                  ...         ...   \n55168                               yo ya hasta lo borre  2023-03-13   \n55169                               papito dios dame uno  2023-03-12   \n55170  was good why my phone keep hanging up for ever...  2023-03-12   \n55171                      what if you wanna pay monthly  2023-03-12   \n55172   why does this happen i swear i use them the s...  2023-03-12   \n\n       predicted  confidence  \n0              1    0.778535  \n1              0    0.069279  \n2              0    0.189697  \n3              1    0.916027  \n4              1    0.610059  \n...          ...         ...  \n55168          1    0.774413  \n55169          1    0.553203  \n55170          0    0.451958  \n55171          0    0.091919  \n55172          0    0.301616  \n\n[55173 rows x 6 columns]",
      "text/html": "<div>\n<style scoped>\n    .dataframe tbody tr th:only-of-type {\n        vertical-align: middle;\n    }\n\n    .dataframe tbody tr th {\n        vertical-align: top;\n    }\n\n    .dataframe thead th {\n        text-align: right;\n    }\n</style>\n<table border=\"1\" class=\"dataframe\">\n  <thead>\n    <tr style=\"text-align: right;\">\n      <th></th>\n      <th>Unnamed: 0</th>\n      <th>twitter_handle</th>\n      <th>text</th>\n      <th>date</th>\n      <th>predicted</th>\n      <th>confidence</th>\n    </tr>\n  </thead>\n  <tbody>\n    <tr>\n      <th>0</th>\n      <td>0</td>\n      <td>YouTube</td>\n      <td>coachella gonna be insane this year april 15 &amp;...</td>\n      <td>2023-03-14</td>\n      <td>1</td>\n      <td>0.778535</td>\n    </tr>\n    <tr>\n      <th>1</th>\n      <td>1</td>\n      <td>YouTube</td>\n      <td>stay playing with fire kill this love as if it...</td>\n      <td>2023-03-14</td>\n      <td>0</td>\n      <td>0.069279</td>\n    </tr>\n    <tr>\n      <th>2</th>\n      <td>2</td>\n      <td>YouTube</td>\n      <td>omg imagine if this was the setlist</td>\n      <td>2023-03-14</td>\n      <td>0</td>\n      <td>0.189697</td>\n    </tr>\n    <tr>\n      <th>3</th>\n      <td>3</td>\n      <td>YouTube</td>\n      <td>new song</td>\n      <td>2023-03-14</td>\n      <td>1</td>\n      <td>0.916027</td>\n    </tr>\n    <tr>\n      <th>4</th>\n      <td>4</td>\n      <td>YouTube</td>\n      <td>omg if they drop a new song during their coach...</td>\n      <td>2023-03-14</td>\n      <td>1</td>\n      <td>0.610059</td>\n    </tr>\n    <tr>\n      <th>...</th>\n      <td>...</td>\n      <td>...</td>\n      <td>...</td>\n      <td>...</td>\n      <td>...</td>\n      <td>...</td>\n    </tr>\n    <tr>\n      <th>55168</th>\n      <td>55168</td>\n      <td>Apple</td>\n      <td>yo ya hasta lo borre</td>\n      <td>2023-03-13</td>\n      <td>1</td>\n      <td>0.774413</td>\n    </tr>\n    <tr>\n      <th>55169</th>\n      <td>55169</td>\n      <td>Apple</td>\n      <td>papito dios dame uno</td>\n      <td>2023-03-12</td>\n      <td>1</td>\n      <td>0.553203</td>\n    </tr>\n    <tr>\n      <th>55170</th>\n      <td>55170</td>\n      <td>Apple</td>\n      <td>was good why my phone keep hanging up for ever...</td>\n      <td>2023-03-12</td>\n      <td>0</td>\n      <td>0.451958</td>\n    </tr>\n    <tr>\n      <th>55171</th>\n      <td>55171</td>\n      <td>Apple</td>\n      <td>what if you wanna pay monthly</td>\n      <td>2023-03-12</td>\n      <td>0</td>\n      <td>0.091919</td>\n    </tr>\n    <tr>\n      <th>55172</th>\n      <td>55172</td>\n      <td>Apple</td>\n      <td>why does this happen i swear i use them the s...</td>\n      <td>2023-03-12</td>\n      <td>0</td>\n      <td>0.301616</td>\n    </tr>\n  </tbody>\n</table>\n<p>55173 rows × 6 columns</p>\n</div>"
     },
     "execution_count": 30,
     "metadata": {},
     "output_type": "execute_result"
    }
   ],
   "source": [
    "df_test"
   ]
  },
  {
   "cell_type": "code",
   "execution_count": 31,
   "metadata": {
    "id": "XKOhc2eYt-n-"
   },
   "outputs": [],
   "source": [
    " df_test.to_csv('results/twitter_lstm_results.csv')"
   ]
  },
  {
   "cell_type": "code",
   "execution_count": 32,
   "outputs": [
    {
     "name": "stdout",
     "output_type": "stream",
     "text": [
      "[[   2  223   27 ...    0    0    0]\n",
      " [   2  112  278 ...    0    0    0]\n",
      " [  63    2  374 ...    0    0    0]\n",
      " ...\n",
      " [  29  129 1069 ...    0    0    0]\n",
      " [   4    1 1561 ...    0    0    0]\n",
      " [   8  120    2 ...    0    0    0]]\n"
     ]
    }
   ],
   "source": [
    "train_data_path = 'data/train_4000.csv'\n",
    "test_data_path = 'data/Api_data.csv'\n",
    "first_n_words = 200\n",
    "\n",
    "# Read raw data\n",
    "df_train = pd.read_csv(train_data_path)\n",
    "df_test = pd.read_csv(test_data_path, names=['twitter_handle', 'source', 'date', 'text'], header=0)\n",
    "df_test['text'] = df_test['text'].astype(str)\n",
    "\n",
    "train_sentences = df_train['sequence'].values\n",
    "test_sentences = df_test['text'].values\n",
    "\n",
    "# Hyperparameters of the model\n",
    "vocab_size = 3000 # choose based on statistics\n",
    "oov_tok = ''\n",
    "embedding_dim = 100\n",
    "max_length = 100 # choose based on statistics, for example 150 to 200\n",
    "padding_type='post'\n",
    "trunc_type='post'\n",
    "\n",
    "# tokenize sentences\n",
    "tokenizer = Tokenizer(num_words = vocab_size, oov_token=oov_tok)\n",
    "tokenizer.fit_on_texts(train_sentences)\n",
    "word_index = tokenizer.word_index\n",
    "\n",
    "# convert Test dataset to sequence and pad sequences\n",
    "test_sequences = tokenizer.texts_to_sequences(test_sentences)\n",
    "test_padded = pad_sequences(test_sequences, padding='post', maxlen=max_length)\n",
    "\n",
    "print(test_padded)"
   ],
   "metadata": {
    "collapsed": false
   }
  },
  {
   "cell_type": "code",
   "execution_count": 33,
   "outputs": [
    {
     "name": "stdout",
     "output_type": "stream",
     "text": [
      "291/291 [==============================] - 4s 11ms/step\n"
     ]
    }
   ],
   "source": [
    "# It can be used to reconstruct the model identically.\n",
    "model = keras.models.load_model(\"checkpoints/lstm-base-uncased_4000_0_best.h5\")\n",
    "\n",
    "prediction = model.predict(test_padded)\n",
    "# Get labels based on probability 1 if p>= 0.5 else 0\n",
    "\n",
    "pred_labels = []\n",
    "for i in prediction:\n",
    "    if i >= 0.5:\n",
    "        pred_labels.append(1)\n",
    "    else:\n",
    "        pred_labels.append(0)\n",
    "df_test['predicted'] = pred_labels\n",
    "df_test['confidence'] = prediction"
   ],
   "metadata": {
    "collapsed": false
   }
  },
  {
   "cell_type": "code",
   "execution_count": 34,
   "outputs": [
    {
     "data": {
      "text/plain": "     twitter_handle source        date  \\\n0       adani group    NYT  05/13/2022   \n1       adani group    NYT  05/16/2022   \n2       adani group    NYT  06/14/2022   \n3       adani group    NYT  09/22/2022   \n4       adani group    NYT  10/28/2022   \n...             ...    ...         ...   \n9282            fia    NYT  10/31/2021   \n9283            fia    NYT  12/15/2021   \n9284            fia    NYT  01/13/2022   \n9285            fia    NYT  08/16/2022   \n9286            fia    NYT  08/31/2022   \n\n                                                   text  predicted  confidence  \n0     the country has been hit hard by wildfires and...          0    0.294394  \n1     the former federal reserve chair warns that th...          0    0.263658  \n2     what the second bear market since the start of...          0    0.339724  \n3     alt news, an independent website, has emerged ...          0    0.135050  \n4     the business decisions of gautam adani could g...          0    0.222312  \n...                                                 ...        ...         ...  \n9282  trading in your gas-busting vehicle for one wi...          1    0.960280  \n9283  max verstappen knew his chances of beating lew...          0    0.112936  \n9284  from our critics, reviews of closed gallery sh...          0    0.247381  \n9285  a dominican restaurant in the radio hotel in w...          0    0.365250  \n9286  i am the times’s assistant tv editor. here are...          0    0.300946  \n\n[9287 rows x 6 columns]",
      "text/html": "<div>\n<style scoped>\n    .dataframe tbody tr th:only-of-type {\n        vertical-align: middle;\n    }\n\n    .dataframe tbody tr th {\n        vertical-align: top;\n    }\n\n    .dataframe thead th {\n        text-align: right;\n    }\n</style>\n<table border=\"1\" class=\"dataframe\">\n  <thead>\n    <tr style=\"text-align: right;\">\n      <th></th>\n      <th>twitter_handle</th>\n      <th>source</th>\n      <th>date</th>\n      <th>text</th>\n      <th>predicted</th>\n      <th>confidence</th>\n    </tr>\n  </thead>\n  <tbody>\n    <tr>\n      <th>0</th>\n      <td>adani group</td>\n      <td>NYT</td>\n      <td>05/13/2022</td>\n      <td>the country has been hit hard by wildfires and...</td>\n      <td>0</td>\n      <td>0.294394</td>\n    </tr>\n    <tr>\n      <th>1</th>\n      <td>adani group</td>\n      <td>NYT</td>\n      <td>05/16/2022</td>\n      <td>the former federal reserve chair warns that th...</td>\n      <td>0</td>\n      <td>0.263658</td>\n    </tr>\n    <tr>\n      <th>2</th>\n      <td>adani group</td>\n      <td>NYT</td>\n      <td>06/14/2022</td>\n      <td>what the second bear market since the start of...</td>\n      <td>0</td>\n      <td>0.339724</td>\n    </tr>\n    <tr>\n      <th>3</th>\n      <td>adani group</td>\n      <td>NYT</td>\n      <td>09/22/2022</td>\n      <td>alt news, an independent website, has emerged ...</td>\n      <td>0</td>\n      <td>0.135050</td>\n    </tr>\n    <tr>\n      <th>4</th>\n      <td>adani group</td>\n      <td>NYT</td>\n      <td>10/28/2022</td>\n      <td>the business decisions of gautam adani could g...</td>\n      <td>0</td>\n      <td>0.222312</td>\n    </tr>\n    <tr>\n      <th>...</th>\n      <td>...</td>\n      <td>...</td>\n      <td>...</td>\n      <td>...</td>\n      <td>...</td>\n      <td>...</td>\n    </tr>\n    <tr>\n      <th>9282</th>\n      <td>fia</td>\n      <td>NYT</td>\n      <td>10/31/2021</td>\n      <td>trading in your gas-busting vehicle for one wi...</td>\n      <td>1</td>\n      <td>0.960280</td>\n    </tr>\n    <tr>\n      <th>9283</th>\n      <td>fia</td>\n      <td>NYT</td>\n      <td>12/15/2021</td>\n      <td>max verstappen knew his chances of beating lew...</td>\n      <td>0</td>\n      <td>0.112936</td>\n    </tr>\n    <tr>\n      <th>9284</th>\n      <td>fia</td>\n      <td>NYT</td>\n      <td>01/13/2022</td>\n      <td>from our critics, reviews of closed gallery sh...</td>\n      <td>0</td>\n      <td>0.247381</td>\n    </tr>\n    <tr>\n      <th>9285</th>\n      <td>fia</td>\n      <td>NYT</td>\n      <td>08/16/2022</td>\n      <td>a dominican restaurant in the radio hotel in w...</td>\n      <td>0</td>\n      <td>0.365250</td>\n    </tr>\n    <tr>\n      <th>9286</th>\n      <td>fia</td>\n      <td>NYT</td>\n      <td>08/31/2022</td>\n      <td>i am the times’s assistant tv editor. here are...</td>\n      <td>0</td>\n      <td>0.300946</td>\n    </tr>\n  </tbody>\n</table>\n<p>9287 rows × 6 columns</p>\n</div>"
     },
     "execution_count": 34,
     "metadata": {},
     "output_type": "execute_result"
    }
   ],
   "source": [
    "df_test"
   ],
   "metadata": {
    "collapsed": false
   }
  },
  {
   "cell_type": "code",
   "execution_count": 35,
   "outputs": [],
   "source": [
    "df_test['date'] = pd.to_datetime(df_test['date'], format='%m/%d/%Y')\n",
    "\n",
    "# Convert back to string in desired format\n",
    "df_test['date'] = df_test['date'].dt.strftime('%Y-%m-%d')"
   ],
   "metadata": {
    "collapsed": false
   }
  },
  {
   "cell_type": "code",
   "execution_count": 36,
   "outputs": [
    {
     "data": {
      "text/plain": "     twitter_handle source        date  \\\n0       adani group    NYT  2022-05-13   \n1       adani group    NYT  2022-05-16   \n2       adani group    NYT  2022-06-14   \n3       adani group    NYT  2022-09-22   \n4       adani group    NYT  2022-10-28   \n...             ...    ...         ...   \n9282            fia    NYT  2021-10-31   \n9283            fia    NYT  2021-12-15   \n9284            fia    NYT  2022-01-13   \n9285            fia    NYT  2022-08-16   \n9286            fia    NYT  2022-08-31   \n\n                                                   text  predicted  confidence  \n0     the country has been hit hard by wildfires and...          0    0.294394  \n1     the former federal reserve chair warns that th...          0    0.263658  \n2     what the second bear market since the start of...          0    0.339724  \n3     alt news, an independent website, has emerged ...          0    0.135050  \n4     the business decisions of gautam adani could g...          0    0.222312  \n...                                                 ...        ...         ...  \n9282  trading in your gas-busting vehicle for one wi...          1    0.960280  \n9283  max verstappen knew his chances of beating lew...          0    0.112936  \n9284  from our critics, reviews of closed gallery sh...          0    0.247381  \n9285  a dominican restaurant in the radio hotel in w...          0    0.365250  \n9286  i am the times’s assistant tv editor. here are...          0    0.300946  \n\n[9287 rows x 6 columns]",
      "text/html": "<div>\n<style scoped>\n    .dataframe tbody tr th:only-of-type {\n        vertical-align: middle;\n    }\n\n    .dataframe tbody tr th {\n        vertical-align: top;\n    }\n\n    .dataframe thead th {\n        text-align: right;\n    }\n</style>\n<table border=\"1\" class=\"dataframe\">\n  <thead>\n    <tr style=\"text-align: right;\">\n      <th></th>\n      <th>twitter_handle</th>\n      <th>source</th>\n      <th>date</th>\n      <th>text</th>\n      <th>predicted</th>\n      <th>confidence</th>\n    </tr>\n  </thead>\n  <tbody>\n    <tr>\n      <th>0</th>\n      <td>adani group</td>\n      <td>NYT</td>\n      <td>2022-05-13</td>\n      <td>the country has been hit hard by wildfires and...</td>\n      <td>0</td>\n      <td>0.294394</td>\n    </tr>\n    <tr>\n      <th>1</th>\n      <td>adani group</td>\n      <td>NYT</td>\n      <td>2022-05-16</td>\n      <td>the former federal reserve chair warns that th...</td>\n      <td>0</td>\n      <td>0.263658</td>\n    </tr>\n    <tr>\n      <th>2</th>\n      <td>adani group</td>\n      <td>NYT</td>\n      <td>2022-06-14</td>\n      <td>what the second bear market since the start of...</td>\n      <td>0</td>\n      <td>0.339724</td>\n    </tr>\n    <tr>\n      <th>3</th>\n      <td>adani group</td>\n      <td>NYT</td>\n      <td>2022-09-22</td>\n      <td>alt news, an independent website, has emerged ...</td>\n      <td>0</td>\n      <td>0.135050</td>\n    </tr>\n    <tr>\n      <th>4</th>\n      <td>adani group</td>\n      <td>NYT</td>\n      <td>2022-10-28</td>\n      <td>the business decisions of gautam adani could g...</td>\n      <td>0</td>\n      <td>0.222312</td>\n    </tr>\n    <tr>\n      <th>...</th>\n      <td>...</td>\n      <td>...</td>\n      <td>...</td>\n      <td>...</td>\n      <td>...</td>\n      <td>...</td>\n    </tr>\n    <tr>\n      <th>9282</th>\n      <td>fia</td>\n      <td>NYT</td>\n      <td>2021-10-31</td>\n      <td>trading in your gas-busting vehicle for one wi...</td>\n      <td>1</td>\n      <td>0.960280</td>\n    </tr>\n    <tr>\n      <th>9283</th>\n      <td>fia</td>\n      <td>NYT</td>\n      <td>2021-12-15</td>\n      <td>max verstappen knew his chances of beating lew...</td>\n      <td>0</td>\n      <td>0.112936</td>\n    </tr>\n    <tr>\n      <th>9284</th>\n      <td>fia</td>\n      <td>NYT</td>\n      <td>2022-01-13</td>\n      <td>from our critics, reviews of closed gallery sh...</td>\n      <td>0</td>\n      <td>0.247381</td>\n    </tr>\n    <tr>\n      <th>9285</th>\n      <td>fia</td>\n      <td>NYT</td>\n      <td>2022-08-16</td>\n      <td>a dominican restaurant in the radio hotel in w...</td>\n      <td>0</td>\n      <td>0.365250</td>\n    </tr>\n    <tr>\n      <th>9286</th>\n      <td>fia</td>\n      <td>NYT</td>\n      <td>2022-08-31</td>\n      <td>i am the times’s assistant tv editor. here are...</td>\n      <td>0</td>\n      <td>0.300946</td>\n    </tr>\n  </tbody>\n</table>\n<p>9287 rows × 6 columns</p>\n</div>"
     },
     "execution_count": 36,
     "metadata": {},
     "output_type": "execute_result"
    }
   ],
   "source": [
    "df_test"
   ],
   "metadata": {
    "collapsed": false
   }
  },
  {
   "cell_type": "code",
   "execution_count": 37,
   "outputs": [
    {
     "data": {
      "text/plain": "array(['adani group', 'ftx', 'microsoft', 'google', 'air canada',\n       'amazon', 'apple ', 'samsung', 'meta', 'intel', 'bose', 'fia'],\n      dtype=object)"
     },
     "execution_count": 37,
     "metadata": {},
     "output_type": "execute_result"
    }
   ],
   "source": [
    "df_test.twitter_handle.unique()"
   ],
   "metadata": {
    "collapsed": false
   }
  },
  {
   "cell_type": "code",
   "execution_count": 38,
   "outputs": [],
   "source": [
    "df_test['twitter_handle'] = df_test['twitter_handle'].replace(['air canada'], 'AirCanada')\n",
    "df_test['twitter_handle'] = df_test['twitter_handle'].replace(['microsoft'], 'Microsoft')\n",
    "df_test['twitter_handle'] = df_test['twitter_handle'].replace(['meta'], 'Meta')\n",
    "df_test['twitter_handle'] = df_test['twitter_handle'].replace(['google'], 'Google')"
   ],
   "metadata": {
    "collapsed": false
   }
  },
  {
   "cell_type": "code",
   "execution_count": 39,
   "outputs": [],
   "source": [
    "df_test.to_csv('results/nyt_lstm_results.csv')"
   ],
   "metadata": {
    "collapsed": false
   }
  }
 ],
 "metadata": {
  "colab": {
   "provenance": []
  },
  "kernelspec": {
   "display_name": "Python 3 (ipykernel)",
   "language": "python",
   "name": "python3"
  },
  "language_info": {
   "codemirror_mode": {
    "name": "ipython",
    "version": 3
   },
   "file_extension": ".py",
   "mimetype": "text/x-python",
   "name": "python",
   "nbconvert_exporter": "python",
   "pygments_lexer": "ipython3",
   "version": "3.10.6"
  }
 },
 "nbformat": 4,
 "nbformat_minor": 4
}
