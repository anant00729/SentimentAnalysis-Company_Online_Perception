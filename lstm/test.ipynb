{
 "cells": [
  {
   "cell_type": "code",
   "execution_count": 57,
   "metadata": {
    "id": "QjWsTvx3glOI"
   },
   "outputs": [],
   "source": [
    "import keras\n",
    "import numpy as np\n",
    "import pandas as pd\n",
    "from sklearn.metrics import accuracy_score\n",
    "from sklearn.metrics import f1_score, precision_score, recall_score\n",
    "from keras.preprocessing.text import Tokenizer\n",
    "from tensorflow.keras.preprocessing.sequence import pad_sequences\n",
    "import dataframe_image as dfi"
   ]
  },
  {
   "cell_type": "code",
   "execution_count": 58,
   "metadata": {
    "id": "gZoj5DOoh5BW"
   },
   "outputs": [],
   "source": [
    "train_data_path = 'data/train_4000.csv'\n",
    "test_data_path = 'data/test_4000.csv'\n",
    "val_data_path = 'data/val_4000.csv'\n",
    "\n",
    "train_data_path_news = 'data/train_4000_news.csv'\n",
    "test_data_path_news = 'data/test_4000_news.csv'\n",
    "val_data_path_news = 'data/val_4000_news.csv'\n",
    "\n",
    "train_data_path_tweets = 'data/train_4000_tweets.csv'\n",
    "test_data_path_tweets = 'data/test_4000_tweets.csv'\n",
    "val_data_path_tweets = 'data/val_4000_tweets.csv'\n",
    "\n",
    "first_n_words = 200\n",
    "\n",
    "# Read raw data\n",
    "df_train = pd.read_csv(train_data_path)\n",
    "df_test = pd.read_csv(test_data_path)\n",
    "df_val = pd.read_csv(val_data_path)\n",
    "\n",
    "df_train_news = pd.read_csv(train_data_path_news)\n",
    "df_test_news = pd.read_csv(test_data_path_news)\n",
    "df_val_news = pd.read_csv(val_data_path_news)\n",
    "df_train_news[['label']] = df_train_news[['label']].replace([\"negative\", \"positive\"],[0, 1])\n",
    "df_test_news[['label']] = df_test_news[['label']].replace([\"negative\", \"positive\"],[0, 1])\n",
    "df_val_news[['label']] = df_val_news[['label']].replace([\"negative\", \"positive\"],[0, 1])\n",
    "\n",
    "\n",
    "df_train_tweets = pd.read_csv(train_data_path_tweets)\n",
    "df_test_tweets = pd.read_csv(test_data_path_tweets)\n",
    "df_val_tweets = pd.read_csv(val_data_path_tweets)\n",
    "df_train_tweets[['label']] = df_train_tweets[['label']].replace([\"negative\", \"positive\"],[0, 1])\n",
    "df_test_tweets[['label']] = df_test_tweets[['label']].replace([\"negative\", \"positive\"],[0, 1])\n",
    "df_val_tweets[['label']] = df_val_tweets[['label']].replace([\"negative\", \"positive\"],[0, 1])\n",
    "\n",
    "# Take particular columns\n",
    "train_sentences = df_train['sequence'].values\n",
    "train_labels = df_train['label'].values\n",
    "\n",
    "test_sentences = df_test['sequence'].values\n",
    "test_labels = df_test['label'].values\n",
    "\n",
    "val_sentences = df_val['sequence'].values\n",
    "val_labels = df_val['label'].values\n",
    "\n",
    "train_sentences_news = df_train_news['sequence'].values\n",
    "train_labels_news = df_train_news['label'].values\n",
    "\n",
    "test_sentences_news = df_test_news['sequence'].values\n",
    "test_labels_news = df_test_news['label'].values\n",
    "\n",
    "val_sentences_news = df_val_news['sequence'].values\n",
    "val_labels_news = df_val_news['label'].values\n",
    "\n",
    "train_sentences_tweets = df_train_tweets['sequence'].values\n",
    "train_labels_tweets = df_train_tweets['label'].values\n",
    "\n",
    "test_sentences_tweets = df_test_tweets['sequence'].values\n",
    "test_labels_tweets = df_test_tweets['label'].values\n",
    "\n",
    "val_sentences_tweets = df_val_tweets['sequence'].values\n",
    "val_labels_tweets = df_val_tweets['label'].values\n",
    "\n",
    "\n",
    "# Hyperparameters of the model\n",
    "vocab_size = 3000 # choose based on statistics\n",
    "oov_tok = ''\n",
    "embedding_dim = 100\n",
    "max_length = 100 # choose based on statistics, for example 150 to 200\n",
    "padding_type='post'\n",
    "trunc_type='post'\n",
    "\n",
    "# tokenize sentences\n",
    "tokenizer = Tokenizer(num_words = vocab_size, oov_token=oov_tok)\n",
    "tokenizer.fit_on_texts(train_sentences)\n",
    "word_index = tokenizer.word_index\n",
    "\n",
    "def prepare_padded_data(sentences):\n",
    "  # convert dataset to sequence and pad sequences\n",
    "  all_sequences = tokenizer.texts_to_sequences(sentences)\n",
    "  all_padded = pad_sequences(all_sequences, padding='post', maxlen=max_length)\n",
    "  return all_sequences, all_padded\n",
    "\n",
    "# Get all sentences squences and padding\n",
    "train_sequences, train_padded = prepare_padded_data(train_sentences)\n",
    "test_sequences, test_padded = prepare_padded_data(test_sentences)\n",
    "val_sequences, val_padded = prepare_padded_data(val_sentences)\n",
    "\n",
    "train_sequences_news, train_padded_news = prepare_padded_data(train_sentences_news)\n",
    "test_sequences_news, test_padded_news = prepare_padded_data(test_sentences_news)\n",
    "val_sequences_news, val_padded_news = prepare_padded_data(val_sentences_news)\n",
    "\n",
    "train_sequences_tweets, train_padded_tweets = prepare_padded_data(train_sentences_tweets)\n",
    "test_sequences_tweets, test_padded_tweets = prepare_padded_data(test_sentences_tweets)\n",
    "val_sequences_tweets, val_padded_tweets = prepare_padded_data(val_sentences_tweets)\n"
   ]
  },
  {
   "cell_type": "code",
   "execution_count": 59,
   "metadata": {
    "id": "FVwyiZhPliij"
   },
   "outputs": [],
   "source": [
    "all_results = []\n",
    "\n",
    "def calculate_scores(padded_sequence, true_labels, required_set, dataset):\n",
    "  # Checking reconstruct the model identically.\n",
    "  model_check = keras.models.load_model(\"checkpoints/lstm-base-uncased_4000_0_best.h5\")\n",
    "\n",
    "  prediction = model_check.predict(padded_sequence)\n",
    "  # Get labels based on probability 1 if p>= 0.5 else 0\n",
    "\n",
    "  pred_labels = []\n",
    "  for i in prediction:\n",
    "      if i >= 0.5:\n",
    "          pred_labels.append(1)\n",
    "      else:\n",
    "          pred_labels.append(0)\n",
    "  acc = accuracy_score(true_labels, pred_labels)\n",
    "  f1score = f1_score(true_labels, pred_labels)\n",
    "  pre = precision_score(true_labels, pred_labels)\n",
    "  rec = recall_score(true_labels, pred_labels)\n",
    "\n",
    "\n",
    "  dict = {'Dataset': dataset, 'TTV': required_set, 'Accuracy': acc, 'F1 Score': f1score, 'Precision': pre, 'Recall': rec}\n",
    "  all_results.append(dict)"
   ]
  },
  {
   "cell_type": "code",
   "execution_count": 60,
   "metadata": {
    "colab": {
     "base_uri": "https://localhost:8080/"
    },
    "id": "BBldhhjSmScX",
    "outputId": "445ac30f-db84-410e-ef72-530980ba4275"
   },
   "outputs": [
    {
     "name": "stdout",
     "output_type": "stream",
     "text": [
      "175/175 [==============================] - 2s 10ms/step\n",
      "50/50 [==============================] - 1s 9ms/step\n",
      "25/25 [==============================] - 0s 9ms/step\n"
     ]
    }
   ],
   "source": [
    "calculate_scores(train_padded, train_labels, 'Train', 'All Data')\n",
    "calculate_scores(test_padded, test_labels, 'Test', 'All Data')\n",
    "calculate_scores(val_padded, val_labels, 'Val', 'All Data')"
   ]
  },
  {
   "cell_type": "code",
   "execution_count": 61,
   "metadata": {
    "colab": {
     "base_uri": "https://localhost:8080/"
    },
    "id": "SIgtF93Ippb7",
    "outputId": "68aa8a56-56ca-4f9d-adc6-60bf736c24fb"
   },
   "outputs": [
    {
     "name": "stdout",
     "output_type": "stream",
     "text": [
      "88/88 [==============================] - 1s 9ms/step\n",
      "25/25 [==============================] - 0s 9ms/step\n",
      "13/13 [==============================] - 0s 9ms/step\n"
     ]
    }
   ],
   "source": [
    "calculate_scores(train_padded_news, train_labels_news, 'Train', 'NewsMTSC Split')\n",
    "calculate_scores(test_padded_news, test_labels_news, 'Test', 'NewsMTSC Split')\n",
    "calculate_scores(val_padded_news, val_labels_news, 'Val', 'NewsMTSC Split')"
   ]
  },
  {
   "cell_type": "code",
   "execution_count": 62,
   "metadata": {
    "colab": {
     "base_uri": "https://localhost:8080/"
    },
    "id": "mZydRKDop7-o",
    "outputId": "2ab40e9c-8edc-4d39-de23-28920b14a40e"
   },
   "outputs": [
    {
     "name": "stdout",
     "output_type": "stream",
     "text": [
      "88/88 [==============================] - 1s 9ms/step\n",
      "25/25 [==============================] - 0s 9ms/step\n",
      "13/13 [==============================] - 0s 9ms/step\n"
     ]
    }
   ],
   "source": [
    "calculate_scores(train_padded_tweets, train_labels_tweets, 'Train', 'Sentiment140 Split')\n",
    "calculate_scores(test_padded_tweets, test_labels_tweets, 'Test', 'Sentiment140 Split')\n",
    "calculate_scores(val_padded_tweets, val_labels_tweets, 'Val', 'Sentiment140 Split')"
   ]
  },
  {
   "cell_type": "code",
   "execution_count": 63,
   "metadata": {
    "colab": {
     "base_uri": "https://localhost:8080/"
    },
    "id": "cQhyGlhdq1lj",
    "outputId": "6fda3418-0acb-4213-d310-d90af78764d9"
   },
   "outputs": [
    {
     "data": {
      "text/plain": "[{'Dataset': 'All Data',\n  'TTV': 'Train',\n  'Accuracy': 0.8907142857142857,\n  'F1 Score': 0.8760631834750909,\n  'Precision': 0.9173027989821882,\n  'Recall': 0.8383720930232558},\n {'Dataset': 'All Data',\n  'TTV': 'Test',\n  'Accuracy': 0.704375,\n  'F1 Score': 0.6451612903225806,\n  'Precision': 0.7142857142857143,\n  'Recall': 0.5882352941176471},\n {'Dataset': 'All Data',\n  'TTV': 'Val',\n  'Accuracy': 0.6825,\n  'F1 Score': 0.6231454005934719,\n  'Precision': 0.7094594594594594,\n  'Recall': 0.5555555555555556},\n {'Dataset': 'NewsMTSC Split',\n  'TTV': 'Train',\n  'Accuracy': 0.8892857142857142,\n  'F1 Score': 0.8617305976806422,\n  'Precision': 0.9036482694106641,\n  'Recall': 0.8235294117647058},\n {'Dataset': 'NewsMTSC Split',\n  'TTV': 'Test',\n  'Accuracy': 0.69375,\n  'F1 Score': 0.6067415730337079,\n  'Precision': 0.6823104693140795,\n  'Recall': 0.546242774566474},\n {'Dataset': 'NewsMTSC Split',\n  'TTV': 'Val',\n  'Accuracy': 0.6925,\n  'F1 Score': 0.594059405940594,\n  'Precision': 0.7086614173228346,\n  'Recall': 0.5113636363636364},\n {'Dataset': 'Sentiment140 Split',\n  'TTV': 'Train',\n  'Accuracy': 0.8921428571428571,\n  'F1 Score': 0.8879821958456973,\n  'Precision': 0.9286268425135764,\n  'Recall': 0.8507462686567164},\n {'Dataset': 'Sentiment140 Split',\n  'TTV': 'Test',\n  'Accuracy': 0.715,\n  'F1 Score': 0.6788732394366197,\n  'Precision': 0.7415384615384616,\n  'Recall': 0.625974025974026},\n {'Dataset': 'Sentiment140 Split',\n  'TTV': 'Val',\n  'Accuracy': 0.6725,\n  'F1 Score': 0.6469002695417789,\n  'Precision': 0.7100591715976331,\n  'Recall': 0.594059405940594}]"
     },
     "execution_count": 63,
     "metadata": {},
     "output_type": "execute_result"
    }
   ],
   "source": [
    "all_results"
   ]
  },
  {
   "cell_type": "code",
   "execution_count": 64,
   "metadata": {
    "id": "KVQrAciFtaXc"
   },
   "outputs": [],
   "source": [
    "df = pd.DataFrame(all_results)"
   ]
  },
  {
   "cell_type": "code",
   "execution_count": 65,
   "metadata": {
    "colab": {
     "base_uri": "https://localhost:8080/",
     "height": 332
    },
    "id": "I-x7bvbYtnih",
    "outputId": "398c8ef7-d994-4c99-824d-1a6a76e1cb2d"
   },
   "outputs": [
    {
     "data": {
      "text/plain": "              Dataset    TTV  Accuracy  F1 Score  Precision    Recall\n0            All Data  Train  0.890714  0.876063   0.917303  0.838372\n1            All Data   Test  0.704375  0.645161   0.714286  0.588235\n2            All Data    Val  0.682500  0.623145   0.709459  0.555556\n3      NewsMTSC Split  Train  0.889286  0.861731   0.903648  0.823529\n4      NewsMTSC Split   Test  0.693750  0.606742   0.682310  0.546243\n5      NewsMTSC Split    Val  0.692500  0.594059   0.708661  0.511364\n6  Sentiment140 Split  Train  0.892143  0.887982   0.928627  0.850746\n7  Sentiment140 Split   Test  0.715000  0.678873   0.741538  0.625974\n8  Sentiment140 Split    Val  0.672500  0.646900   0.710059  0.594059",
      "text/html": "<div>\n<style scoped>\n    .dataframe tbody tr th:only-of-type {\n        vertical-align: middle;\n    }\n\n    .dataframe tbody tr th {\n        vertical-align: top;\n    }\n\n    .dataframe thead th {\n        text-align: right;\n    }\n</style>\n<table border=\"1\" class=\"dataframe\">\n  <thead>\n    <tr style=\"text-align: right;\">\n      <th></th>\n      <th>Dataset</th>\n      <th>TTV</th>\n      <th>Accuracy</th>\n      <th>F1 Score</th>\n      <th>Precision</th>\n      <th>Recall</th>\n    </tr>\n  </thead>\n  <tbody>\n    <tr>\n      <th>0</th>\n      <td>All Data</td>\n      <td>Train</td>\n      <td>0.890714</td>\n      <td>0.876063</td>\n      <td>0.917303</td>\n      <td>0.838372</td>\n    </tr>\n    <tr>\n      <th>1</th>\n      <td>All Data</td>\n      <td>Test</td>\n      <td>0.704375</td>\n      <td>0.645161</td>\n      <td>0.714286</td>\n      <td>0.588235</td>\n    </tr>\n    <tr>\n      <th>2</th>\n      <td>All Data</td>\n      <td>Val</td>\n      <td>0.682500</td>\n      <td>0.623145</td>\n      <td>0.709459</td>\n      <td>0.555556</td>\n    </tr>\n    <tr>\n      <th>3</th>\n      <td>NewsMTSC Split</td>\n      <td>Train</td>\n      <td>0.889286</td>\n      <td>0.861731</td>\n      <td>0.903648</td>\n      <td>0.823529</td>\n    </tr>\n    <tr>\n      <th>4</th>\n      <td>NewsMTSC Split</td>\n      <td>Test</td>\n      <td>0.693750</td>\n      <td>0.606742</td>\n      <td>0.682310</td>\n      <td>0.546243</td>\n    </tr>\n    <tr>\n      <th>5</th>\n      <td>NewsMTSC Split</td>\n      <td>Val</td>\n      <td>0.692500</td>\n      <td>0.594059</td>\n      <td>0.708661</td>\n      <td>0.511364</td>\n    </tr>\n    <tr>\n      <th>6</th>\n      <td>Sentiment140 Split</td>\n      <td>Train</td>\n      <td>0.892143</td>\n      <td>0.887982</td>\n      <td>0.928627</td>\n      <td>0.850746</td>\n    </tr>\n    <tr>\n      <th>7</th>\n      <td>Sentiment140 Split</td>\n      <td>Test</td>\n      <td>0.715000</td>\n      <td>0.678873</td>\n      <td>0.741538</td>\n      <td>0.625974</td>\n    </tr>\n    <tr>\n      <th>8</th>\n      <td>Sentiment140 Split</td>\n      <td>Val</td>\n      <td>0.672500</td>\n      <td>0.646900</td>\n      <td>0.710059</td>\n      <td>0.594059</td>\n    </tr>\n  </tbody>\n</table>\n</div>"
     },
     "execution_count": 65,
     "metadata": {},
     "output_type": "execute_result"
    }
   ],
   "source": [
    "df"
   ]
  },
  {
   "cell_type": "code",
   "execution_count": 66,
   "metadata": {
    "id": "IFiEWsQXtzan"
   },
   "outputs": [],
   "source": [
    "df = pd.DataFrame(columns=pd.MultiIndex.from_product([['All Data', 'Sentiment140 Split', 'NewsMTSC Split'], ['Accuracy', 'F1']]),\n",
    "                  index=['Train', 'Val', 'Test'])\n",
    "\n",
    "# Add data to the dataframe\n",
    "for d in all_results:\n",
    "    df.loc[d['TTV'], (d['Dataset'], 'Accuracy')] = d['Accuracy'].astype(str)[:4]\n",
    "    df.loc[d['TTV'], (d['Dataset'], 'F1')] = d['F1 Score'].astype(str)[:4]\n",
    "    # df.loc[d['TTV'], (d['Dataset'], 'Precision')] = d['Precision']\n",
    "    # df.loc[d['TTV'], (d['Dataset'], 'Recall')] = d['Recall']\n",
    "\n",
    "\n",
    "\n",
    "# Reset the index to default\n",
    "df = df.rename(index={'Val': 'Validation'})\n",
    "df = df.rename_axis('Data Split')"
   ]
  },
  {
   "cell_type": "code",
   "execution_count": 67,
   "metadata": {
    "colab": {
     "base_uri": "https://localhost:8080/",
     "height": 175
    },
    "id": "Ipa5KFVqdaig",
    "outputId": "8332065b-a072-40e0-dced-41c109eed51b"
   },
   "outputs": [
    {
     "data": {
      "text/plain": "           All Data       Sentiment140 Split       NewsMTSC Split      \n           Accuracy    F1           Accuracy    F1       Accuracy    F1\nData Split                                                             \nTrain          0.89  0.87               0.89  0.88           0.88  0.86\nValidation     0.68  0.62               0.67  0.64           0.69  0.59\nTest           0.70  0.64               0.71  0.67           0.69  0.60",
      "text/html": "<div>\n<style scoped>\n    .dataframe tbody tr th:only-of-type {\n        vertical-align: middle;\n    }\n\n    .dataframe tbody tr th {\n        vertical-align: top;\n    }\n\n    .dataframe thead tr th {\n        text-align: left;\n    }\n\n    .dataframe thead tr:last-of-type th {\n        text-align: right;\n    }\n</style>\n<table border=\"1\" class=\"dataframe\">\n  <thead>\n    <tr>\n      <th></th>\n      <th colspan=\"2\" halign=\"left\">All Data</th>\n      <th colspan=\"2\" halign=\"left\">Sentiment140 Split</th>\n      <th colspan=\"2\" halign=\"left\">NewsMTSC Split</th>\n    </tr>\n    <tr>\n      <th></th>\n      <th>Accuracy</th>\n      <th>F1</th>\n      <th>Accuracy</th>\n      <th>F1</th>\n      <th>Accuracy</th>\n      <th>F1</th>\n    </tr>\n    <tr>\n      <th>Data Split</th>\n      <th></th>\n      <th></th>\n      <th></th>\n      <th></th>\n      <th></th>\n      <th></th>\n    </tr>\n  </thead>\n  <tbody>\n    <tr>\n      <th>Train</th>\n      <td>0.89</td>\n      <td>0.87</td>\n      <td>0.89</td>\n      <td>0.88</td>\n      <td>0.88</td>\n      <td>0.86</td>\n    </tr>\n    <tr>\n      <th>Validation</th>\n      <td>0.68</td>\n      <td>0.62</td>\n      <td>0.67</td>\n      <td>0.64</td>\n      <td>0.69</td>\n      <td>0.59</td>\n    </tr>\n    <tr>\n      <th>Test</th>\n      <td>0.70</td>\n      <td>0.64</td>\n      <td>0.71</td>\n      <td>0.67</td>\n      <td>0.69</td>\n      <td>0.60</td>\n    </tr>\n  </tbody>\n</table>\n</div>"
     },
     "execution_count": 67,
     "metadata": {},
     "output_type": "execute_result"
    }
   ],
   "source": [
    "df"
   ]
  },
  {
   "cell_type": "code",
   "execution_count": 68,
   "metadata": {
    "colab": {
     "base_uri": "https://localhost:8080/",
     "height": 288
    },
    "id": "h2cgvSGd17cK",
    "outputId": "b802be77-4c12-4afd-94e0-df4691e0bc9c"
   },
   "outputs": [
    {
     "name": "stderr",
     "output_type": "stream",
     "text": [
      "objc[7953]: Class WebSwapCGLLayer is implemented in both /System/Library/Frameworks/WebKit.framework/Versions/A/Frameworks/WebCore.framework/Versions/A/Frameworks/libANGLE-shared.dylib (0x23c14b1a8) and /Applications/Google Chrome.app/Contents/Frameworks/Google Chrome Framework.framework/Versions/112.0.5615.49/Libraries/libGLESv2.dylib (0x107ac7c58). One of the two will be used. Which one is undefined.\n",
      "26930 bytes written to file /var/folders/0f/x7d___yn57q2g_3z88pt79c00000gn/T/tmpygvaxdmn/temp.png\n"
     ]
    }
   ],
   "source": [
    "df = df.style.set_table_styles([dict(selector='th', props=[('text-align', 'center')])])\n",
    "df.set_properties(**{'text-align': 'center'})\n",
    "dfi.export(df, 'results/lstm_results_table.png')"
   ]
  }
 ],
 "metadata": {
  "colab": {
   "provenance": []
  },
  "kernelspec": {
   "display_name": "Python 3 (ipykernel)",
   "language": "python",
   "name": "python3"
  },
  "language_info": {
   "codemirror_mode": {
    "name": "ipython",
    "version": 3
   },
   "file_extension": ".py",
   "mimetype": "text/x-python",
   "name": "python",
   "nbconvert_exporter": "python",
   "pygments_lexer": "ipython3",
   "version": "3.10.4"
  }
 },
 "nbformat": 4,
 "nbformat_minor": 1
}
