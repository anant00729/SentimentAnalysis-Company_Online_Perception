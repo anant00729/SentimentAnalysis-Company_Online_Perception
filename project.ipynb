{
 "cells": [
  {
   "cell_type": "markdown",
   "metadata": {
    "jupyter": {
     "outputs_hidden": true
    }
   },
   "source": [
    "# Project.ipynb\n",
    "\n",
    "This notebook contains documentation to run everything in this project."
   ]
  },
  {
   "cell_type": "markdown",
   "metadata": {
    "tags": []
   },
   "source": [
    "## Prerequisites\n",
    "\n",
    "In the following subsections, it is expected that the user has downloaded the neccessary data so that each python notebook or script in this project can be run.  The required prerequisites **must** be completed before proceeding further.  The optional prerequites are optional.  It will be noted below when it is required."
   ]
  },
  {
   "cell_type": "markdown",
   "metadata": {
    "tags": []
   },
   "source": [
    "### Required"
   ]
  },
  {
   "cell_type": "code",
   "execution_count": 2,
   "metadata": {
    "tags": []
   },
   "outputs": [],
   "source": [
    "# Install all requirements to run everything in this project\n",
    "!pip install -r requirements.txt"
   ]
  },
  {
   "cell_type": "code",
   "execution_count": 2,
   "metadata": {
    "tags": []
   },
   "outputs": [
    {
     "name": "stderr",
     "output_type": "stream",
     "text": [
      "Downloading...\n",
      "From (uriginal): https://drive.google.com/uc?id=1C4sxd3439a6lAoK5X3K-CfE1WmhcjsH2\n",
      "From (redirected): https://drive.google.com/uc?id=1C4sxd3439a6lAoK5X3K-CfE1WmhcjsH2&confirm=t&uuid=698b8c5d-3dba-4912-8a36-c60880a92ae3\n",
      "To: /home/aidan/Git-Repositories/nlpclass-1231-g-the_3rd_times_the_charm-group-project/output.zip\n",
      "100%|█████████████████████████████████████████████████████████████████████████████████████████████████████████████████████████████████████████████████████████████████████████████████████████████████████████████████████████████████████| 137M/137M [00:17<00:00, 7.76MB/s]\n"
     ]
    }
   ],
   "source": [
    "# This script downloads and propagates the datafiles required to run each script\n",
    "%run download_output.py"
   ]
  },
  {
   "cell_type": "markdown",
   "metadata": {},
   "source": [
    "### Optional"
   ]
  },
  {
   "cell_type": "markdown",
   "metadata": {},
   "source": [
    "#### Configuring GPU for PyTorch and Tensorflow\n",
    "\n",
    "Using the included requirements.txt file, this will download PyTorch and TensorFlow for CPU **only**.  If the user would like to use a GPU, we refer the reader to [PyTorch installation page](https://pytorch.org/get-started/locally/) or the [Tensorflow installation page](https://www.tensorflow.org/install/pip) so that they can download the appropriate GPU version.  Note, for PyTorch in this project we used version 2.0.0 and for Tensorflow we used version 2.12.0."
   ]
  },
  {
   "cell_type": "markdown",
   "metadata": {},
   "source": [
    "#### Download Models"
   ]
  },
  {
   "cell_type": "code",
   "execution_count": 4,
   "metadata": {
    "tags": []
   },
   "outputs": [],
   "source": [
    "# This script downloads the final models used in this project.  Note, depending on your internet speed this could take quite a while!\n",
    "!python download_models.py"
   ]
  },
  {
   "cell_type": "markdown",
   "metadata": {},
   "source": [
    "# Directories\n",
    "\n",
    "The code in this project is organized into the following directories:\n",
    "- bert\n",
    "- lstm\n",
    "- nyt\n",
    "- result_visualizations\n",
    "- training_data_formulation\n",
    "- twitter\n",
    "- ./\n",
    "\n",
    "In the following cells, we give a brief description of what is contained in each subdirectory.  However, each directory contains a README.md that gives a detailed description of each script in the respective directory; we encourage the reader to read these.  For instance, if the user wishes to reproduce the evaluation (i.e. accuracies) of the BERT model, they should read `bert/README.md`.  This readme gives detailed documentation on how to run `test.ipynb` and discusses the output that is `bert_results_table.png` that shows the accuracy of the model."
   ]
  },
  {
   "cell_type": "markdown",
   "metadata": {
    "jupyter": {
     "outputs_hidden": false
    },
    "pycharm": {
     "is_executing": true
    }
   },
   "source": [
    "### ./\n",
    "\n",
    "This directory contains the (1) all sub directorires (see below) and (2)"
   ]
  },
  {
   "cell_type": "markdown",
   "metadata": {},
   "source": [
    "### bert\n",
    "This directory contains all the code to train and test the BERT model.  Please see `bert/README.md` for details on each script in the directory."
   ]
  },
  {
   "cell_type": "markdown",
   "metadata": {
    "tags": []
   },
   "source": [
    "### lstm\n",
    "\n",
    "All the code necessary for training and testing the LSTM model is included in this directory. For further information on each script in the directory, please refer to the `lstm/README.md` file located in the lstm directory."
   ]
  },
  {
   "cell_type": "markdown",
   "metadata": {},
   "source": [
    "### nyt\n",
    "\n",
    "This directory contains all code used to scrape and visualize scraped data from the new york times.  Please see `nyt/README.md` for details on each script in the directory."
   ]
  },
  {
   "cell_type": "markdown",
   "metadata": {},
   "source": [
    "### result_visualizations\n",
    "\n",
    "This directory contains all the produce the visualizations of the LSTM and BERT models applied on the scraped data.  Please see `result_visualizations/README.md` for details on each script in the directory."
   ]
  },
  {
   "cell_type": "markdown",
   "metadata": {},
   "source": [
    "### training_data_formulation\n",
    "This directory contains all the code to clean and formulate the training data used in this project.  Please see `training_data_formulation/README.md` for details on each script in the directory."
   ]
  },
  {
   "cell_type": "markdown",
   "metadata": {},
   "source": [
    "### twitter\n",
    "\n",
    "This directory contains all code used to scrape and visualize scraped data from Twitter.  Please see `twitter/README.md` for details on each script in the directory."
   ]
  }
 ],
 "metadata": {
  "kernelspec": {
   "display_name": "Python 3 (ipykernel)",
   "language": "python",
   "name": "python3"
  },
  "language_info": {
   "codemirror_mode": {
    "name": "ipython",
    "version": 3
   },
   "file_extension": ".py",
   "mimetype": "text/x-python",
   "name": "python",
   "nbconvert_exporter": "python",
   "pygments_lexer": "ipython3",
   "version": "3.10.6"
  }
 },
 "nbformat": 4,
 "nbformat_minor": 4
}
