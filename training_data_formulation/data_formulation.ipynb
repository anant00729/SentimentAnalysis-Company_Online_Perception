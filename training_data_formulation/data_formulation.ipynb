{
 "cells": [
  {
   "cell_type": "markdown",
   "metadata": {},
   "source": [
    "# Data Prepping Notebook\n",
    "\n",
    "This notebook preps that for training data"
   ]
  },
  {
   "cell_type": "markdown",
   "metadata": {},
   "source": [
    "## Modules"
   ]
  },
  {
   "cell_type": "code",
   "execution_count": 1,
   "metadata": {
    "tags": []
   },
   "outputs": [],
   "source": [
    "import pandas as pd\n",
    "import dataframe_image as dfi"
   ]
  },
  {
   "cell_type": "markdown",
   "metadata": {},
   "source": [
    "## Data Loading"
   ]
  },
  {
   "cell_type": "code",
   "execution_count": 2,
   "metadata": {
    "tags": []
   },
   "outputs": [],
   "source": [
    "# Reading in the entire cleaned Sentiment140 data set\n",
    "tweets = pd.read_csv('results/tweets.csv')"
   ]
  },
  {
   "cell_type": "code",
   "execution_count": 3,
   "metadata": {
    "tags": []
   },
   "outputs": [],
   "source": [
    "# Making sure to remove any bad sequences\n",
    "tweets = tweets[tweets['sequence'].isnull() == False]"
   ]
  },
  {
   "cell_type": "code",
   "execution_count": 4,
   "metadata": {
    "tags": []
   },
   "outputs": [
    {
     "data": {
      "text/html": [
       "<div>\n",
       "<style scoped>\n",
       "    .dataframe tbody tr th:only-of-type {\n",
       "        vertical-align: middle;\n",
       "    }\n",
       "\n",
       "    .dataframe tbody tr th {\n",
       "        vertical-align: top;\n",
       "    }\n",
       "\n",
       "    .dataframe thead th {\n",
       "        text-align: right;\n",
       "    }\n",
       "</style>\n",
       "<table border=\"1\" class=\"dataframe\">\n",
       "  <thead>\n",
       "    <tr style=\"text-align: right;\">\n",
       "      <th></th>\n",
       "      <th>label</th>\n",
       "      <th>sequence</th>\n",
       "    </tr>\n",
       "  </thead>\n",
       "  <tbody>\n",
       "    <tr>\n",
       "      <th>0</th>\n",
       "      <td>-1</td>\n",
       "      <td>awww that's a bummer you shoulda got david car...</td>\n",
       "    </tr>\n",
       "    <tr>\n",
       "      <th>1</th>\n",
       "      <td>-1</td>\n",
       "      <td>is upset that he can't update his facebook by ...</td>\n",
       "    </tr>\n",
       "    <tr>\n",
       "      <th>2</th>\n",
       "      <td>-1</td>\n",
       "      <td>i dived many times for the ball managed to sav...</td>\n",
       "    </tr>\n",
       "    <tr>\n",
       "      <th>3</th>\n",
       "      <td>-1</td>\n",
       "      <td>my whole body feels itchy and like its on fire</td>\n",
       "    </tr>\n",
       "    <tr>\n",
       "      <th>4</th>\n",
       "      <td>-1</td>\n",
       "      <td>no it's not behaving at all i'm mad why am i h...</td>\n",
       "    </tr>\n",
       "    <tr>\n",
       "      <th>...</th>\n",
       "      <td>...</td>\n",
       "      <td>...</td>\n",
       "    </tr>\n",
       "    <tr>\n",
       "      <th>1599995</th>\n",
       "      <td>1</td>\n",
       "      <td>just woke up having no school is the best feel...</td>\n",
       "    </tr>\n",
       "    <tr>\n",
       "      <th>1599996</th>\n",
       "      <td>1</td>\n",
       "      <td>thewdbcom  very cool to hear old walt interviews</td>\n",
       "    </tr>\n",
       "    <tr>\n",
       "      <th>1599997</th>\n",
       "      <td>1</td>\n",
       "      <td>are you ready for your mojo makeover ask me fo...</td>\n",
       "    </tr>\n",
       "    <tr>\n",
       "      <th>1599998</th>\n",
       "      <td>1</td>\n",
       "      <td>happy 38th birthday to my boo of alll time tup...</td>\n",
       "    </tr>\n",
       "    <tr>\n",
       "      <th>1599999</th>\n",
       "      <td>1</td>\n",
       "      <td>happy</td>\n",
       "    </tr>\n",
       "  </tbody>\n",
       "</table>\n",
       "<p>1596751 rows × 2 columns</p>\n",
       "</div>"
      ],
      "text/plain": [
       "         label                                           sequence\n",
       "0           -1  awww that's a bummer you shoulda got david car...\n",
       "1           -1  is upset that he can't update his facebook by ...\n",
       "2           -1  i dived many times for the ball managed to sav...\n",
       "3           -1     my whole body feels itchy and like its on fire\n",
       "4           -1  no it's not behaving at all i'm mad why am i h...\n",
       "...        ...                                                ...\n",
       "1599995      1  just woke up having no school is the best feel...\n",
       "1599996      1  thewdbcom  very cool to hear old walt interviews \n",
       "1599997      1  are you ready for your mojo makeover ask me fo...\n",
       "1599998      1  happy 38th birthday to my boo of alll time tup...\n",
       "1599999      1                                              happy\n",
       "\n",
       "[1596751 rows x 2 columns]"
      ]
     },
     "execution_count": 4,
     "metadata": {},
     "output_type": "execute_result"
    }
   ],
   "source": [
    "tweets"
   ]
  },
  {
   "cell_type": "code",
   "execution_count": 5,
   "metadata": {
    "tags": []
   },
   "outputs": [],
   "source": [
    "# Reading in the NewsMTSC Dataset\n",
    "news = pd.read_csv('results/news.csv')"
   ]
  },
  {
   "cell_type": "code",
   "execution_count": 6,
   "metadata": {
    "tags": []
   },
   "outputs": [],
   "source": [
    "# Making sure to remove any bad sequences\n",
    "news = news[news['sequence'].isnull() == False]"
   ]
  },
  {
   "cell_type": "code",
   "execution_count": 7,
   "metadata": {
    "tags": []
   },
   "outputs": [
    {
     "data": {
      "text/html": [
       "<div>\n",
       "<style scoped>\n",
       "    .dataframe tbody tr th:only-of-type {\n",
       "        vertical-align: middle;\n",
       "    }\n",
       "\n",
       "    .dataframe tbody tr th {\n",
       "        vertical-align: top;\n",
       "    }\n",
       "\n",
       "    .dataframe thead th {\n",
       "        text-align: right;\n",
       "    }\n",
       "</style>\n",
       "<table border=\"1\" class=\"dataframe\">\n",
       "  <thead>\n",
       "    <tr style=\"text-align: right;\">\n",
       "      <th></th>\n",
       "      <th>label</th>\n",
       "      <th>sequence</th>\n",
       "    </tr>\n",
       "  </thead>\n",
       "  <tbody>\n",
       "    <tr>\n",
       "      <th>0</th>\n",
       "      <td>0</td>\n",
       "      <td>in the 2015 conservative political action conf...</td>\n",
       "    </tr>\n",
       "    <tr>\n",
       "      <th>1</th>\n",
       "      <td>1</td>\n",
       "      <td>he was willing to meet with industry to try to...</td>\n",
       "    </tr>\n",
       "    <tr>\n",
       "      <th>2</th>\n",
       "      <td>0</td>\n",
       "      <td>as far as the truck rental goes those intervie...</td>\n",
       "    </tr>\n",
       "    <tr>\n",
       "      <th>3</th>\n",
       "      <td>-1</td>\n",
       "      <td>then trump didn’t actually let priebus be a re...</td>\n",
       "    </tr>\n",
       "    <tr>\n",
       "      <th>4</th>\n",
       "      <td>0</td>\n",
       "      <td>the boy will appear in court in mid july to ap...</td>\n",
       "    </tr>\n",
       "    <tr>\n",
       "      <th>...</th>\n",
       "      <td>...</td>\n",
       "      <td>...</td>\n",
       "    </tr>\n",
       "    <tr>\n",
       "      <th>8701</th>\n",
       "      <td>-1</td>\n",
       "      <td>in announcing acosta's suspension sanders said...</td>\n",
       "    </tr>\n",
       "    <tr>\n",
       "      <th>8702</th>\n",
       "      <td>0</td>\n",
       "      <td>cassidy has sought to defend the provision</td>\n",
       "    </tr>\n",
       "    <tr>\n",
       "      <th>8703</th>\n",
       "      <td>0</td>\n",
       "      <td>trump returned to the united states on tuesday...</td>\n",
       "    </tr>\n",
       "    <tr>\n",
       "      <th>8704</th>\n",
       "      <td>1</td>\n",
       "      <td>a wall street journalnbc poll taken after the ...</td>\n",
       "    </tr>\n",
       "    <tr>\n",
       "      <th>8705</th>\n",
       "      <td>-1</td>\n",
       "      <td>he also deleted and otherwise did not produce ...</td>\n",
       "    </tr>\n",
       "  </tbody>\n",
       "</table>\n",
       "<p>8706 rows × 2 columns</p>\n",
       "</div>"
      ],
      "text/plain": [
       "      label                                           sequence\n",
       "0         0  in the 2015 conservative political action conf...\n",
       "1         1  he was willing to meet with industry to try to...\n",
       "2         0  as far as the truck rental goes those intervie...\n",
       "3        -1  then trump didn’t actually let priebus be a re...\n",
       "4         0  the boy will appear in court in mid july to ap...\n",
       "...     ...                                                ...\n",
       "8701     -1  in announcing acosta's suspension sanders said...\n",
       "8702      0         cassidy has sought to defend the provision\n",
       "8703      0  trump returned to the united states on tuesday...\n",
       "8704      1  a wall street journalnbc poll taken after the ...\n",
       "8705     -1  he also deleted and otherwise did not produce ...\n",
       "\n",
       "[8706 rows x 2 columns]"
      ]
     },
     "execution_count": 7,
     "metadata": {},
     "output_type": "execute_result"
    }
   ],
   "source": [
    "news"
   ]
  },
  {
   "cell_type": "markdown",
   "metadata": {},
   "source": [
    "## Statistics"
   ]
  },
  {
   "cell_type": "markdown",
   "metadata": {
    "tags": []
   },
   "source": [
    "### NewsMTSC Dataset"
   ]
  },
  {
   "cell_type": "code",
   "execution_count": 8,
   "metadata": {
    "tags": []
   },
   "outputs": [],
   "source": [
    "# Dropping neutral sequences\n",
    "news = news[news['label'] != 0]"
   ]
  },
  {
   "cell_type": "code",
   "execution_count": 9,
   "metadata": {
    "tags": []
   },
   "outputs": [
    {
     "name": "stderr",
     "output_type": "stream",
     "text": [
      "/tmp/ipykernel_76940/2202327589.py:2: SettingWithCopyWarning: \n",
      "A value is trying to be set on a copy of a slice from a DataFrame.\n",
      "Try using .loc[row_indexer,col_indexer] = value instead\n",
      "\n",
      "See the caveats in the documentation: https://pandas.pydata.org/pandas-docs/stable/user_guide/indexing.html#returning-a-view-versus-a-copy\n",
      "  news[['label']] = news[['label']].replace([-1,1],[\"negative\", \"positive\"])\n"
     ]
    }
   ],
   "source": [
    "# Replacing values\n",
    "news[['label']] = news[['label']].replace([-1,1],[\"negative\", \"positive\"])"
   ]
  },
  {
   "cell_type": "code",
   "execution_count": 10,
   "metadata": {
    "tags": []
   },
   "outputs": [],
   "source": [
    "# Computing the normalized counts (i.e. percentage)\n",
    "news_counts_normalized = news[['label']].value_counts(normalize=True).to_frame().reset_index()\n",
    "\n",
    "# Fixing column names\n",
    "news_counts_normalized.columns = news_counts_normalized.columns = [\"Label\", \"Percentage\"]"
   ]
  },
  {
   "cell_type": "code",
   "execution_count": 11,
   "metadata": {
    "tags": []
   },
   "outputs": [],
   "source": [
    "# Computing the normalized counts (i.e. percentage)\n",
    "news_counts = news[['label']].value_counts().to_frame().reset_index()\n",
    "\n",
    "# Fixing column names\n",
    "news_counts.columns = news_counts.columns = [\"Label\", \"Count\"]"
   ]
  },
  {
   "cell_type": "code",
   "execution_count": 12,
   "metadata": {
    "tags": []
   },
   "outputs": [],
   "source": [
    "# Merging data together to create 1 table\n",
    "news_stats = news_counts.merge(news_counts_normalized, on=\"Label\")"
   ]
  },
  {
   "cell_type": "code",
   "execution_count": 13,
   "metadata": {
    "tags": []
   },
   "outputs": [
    {
     "data": {
      "text/html": [
       "<div>\n",
       "<style scoped>\n",
       "    .dataframe tbody tr th:only-of-type {\n",
       "        vertical-align: middle;\n",
       "    }\n",
       "\n",
       "    .dataframe tbody tr th {\n",
       "        vertical-align: top;\n",
       "    }\n",
       "\n",
       "    .dataframe thead th {\n",
       "        text-align: right;\n",
       "    }\n",
       "</style>\n",
       "<table border=\"1\" class=\"dataframe\">\n",
       "  <thead>\n",
       "    <tr style=\"text-align: right;\">\n",
       "      <th></th>\n",
       "      <th>Label</th>\n",
       "      <th>Count</th>\n",
       "      <th>Percentage</th>\n",
       "    </tr>\n",
       "  </thead>\n",
       "  <tbody>\n",
       "    <tr>\n",
       "      <th>0</th>\n",
       "      <td>negative</td>\n",
       "      <td>3189</td>\n",
       "      <td>0.577927</td>\n",
       "    </tr>\n",
       "    <tr>\n",
       "      <th>1</th>\n",
       "      <td>positive</td>\n",
       "      <td>2329</td>\n",
       "      <td>0.422073</td>\n",
       "    </tr>\n",
       "  </tbody>\n",
       "</table>\n",
       "</div>"
      ],
      "text/plain": [
       "      Label  Count  Percentage\n",
       "0  negative   3189    0.577927\n",
       "1  positive   2329    0.422073"
      ]
     },
     "execution_count": 13,
     "metadata": {},
     "output_type": "execute_result"
    }
   ],
   "source": [
    "news_stats"
   ]
  },
  {
   "cell_type": "markdown",
   "metadata": {},
   "source": [
    "### Sentiment 140 Dataset"
   ]
  },
  {
   "cell_type": "code",
   "execution_count": 14,
   "metadata": {
    "tags": []
   },
   "outputs": [],
   "source": [
    "# Replacing values\n",
    "tweets[['label']] = tweets[['label']].replace([-1, 0,1],[\"negative\", \"neutral\", \"positive\"])"
   ]
  },
  {
   "cell_type": "code",
   "execution_count": 15,
   "metadata": {
    "tags": []
   },
   "outputs": [],
   "source": [
    "# Computing the normalized counts (i.e. percentage)\n",
    "tweets_counts_normalized = tweets[['label']].value_counts(normalize=True).to_frame().reset_index()\n",
    "\n",
    "# Fixing column names\n",
    "tweets_counts_normalized.columns = tweets_counts_normalized.columns = [\"Label\", \"Percentage\"]"
   ]
  },
  {
   "cell_type": "code",
   "execution_count": 16,
   "metadata": {
    "tags": []
   },
   "outputs": [],
   "source": [
    "# Computing the normalized counts (i.e. percentage)\n",
    "tweets_counts= tweets[['label']].value_counts().to_frame().reset_index()\n",
    "\n",
    "# Fixing column names\n",
    "tweets_counts.columns = tweets_counts.columns = [\"Label\", \"Count\"]"
   ]
  },
  {
   "cell_type": "code",
   "execution_count": 17,
   "metadata": {
    "tags": []
   },
   "outputs": [],
   "source": [
    "# Merging data together to create 1 table\n",
    "tweet_stats = tweets_counts.merge(tweets_counts_normalized, on=\"Label\")"
   ]
  },
  {
   "cell_type": "code",
   "execution_count": 18,
   "metadata": {
    "tags": []
   },
   "outputs": [
    {
     "data": {
      "text/html": [
       "<div>\n",
       "<style scoped>\n",
       "    .dataframe tbody tr th:only-of-type {\n",
       "        vertical-align: middle;\n",
       "    }\n",
       "\n",
       "    .dataframe tbody tr th {\n",
       "        vertical-align: top;\n",
       "    }\n",
       "\n",
       "    .dataframe thead th {\n",
       "        text-align: right;\n",
       "    }\n",
       "</style>\n",
       "<table border=\"1\" class=\"dataframe\">\n",
       "  <thead>\n",
       "    <tr style=\"text-align: right;\">\n",
       "      <th></th>\n",
       "      <th>Label</th>\n",
       "      <th>Count</th>\n",
       "      <th>Percentage</th>\n",
       "    </tr>\n",
       "  </thead>\n",
       "  <tbody>\n",
       "    <tr>\n",
       "      <th>0</th>\n",
       "      <td>negative</td>\n",
       "      <td>798384</td>\n",
       "      <td>0.500005</td>\n",
       "    </tr>\n",
       "    <tr>\n",
       "      <th>1</th>\n",
       "      <td>positive</td>\n",
       "      <td>798367</td>\n",
       "      <td>0.499995</td>\n",
       "    </tr>\n",
       "  </tbody>\n",
       "</table>\n",
       "</div>"
      ],
      "text/plain": [
       "      Label   Count  Percentage\n",
       "0  negative  798384    0.500005\n",
       "1  positive  798367    0.499995"
      ]
     },
     "execution_count": 18,
     "metadata": {},
     "output_type": "execute_result"
    }
   ],
   "source": [
    "tweet_stats"
   ]
  },
  {
   "cell_type": "markdown",
   "metadata": {
    "tags": []
   },
   "source": [
    "## Data Merging"
   ]
  },
  {
   "cell_type": "code",
   "execution_count": 19,
   "metadata": {},
   "outputs": [],
   "source": [
    "# Defining the number of samples to be sampled from each dataset\n",
    "NUM_SAMPLES = 4000"
   ]
  },
  {
   "cell_type": "code",
   "execution_count": 20,
   "metadata": {
    "tags": []
   },
   "outputs": [],
   "source": [
    "# Sampling tweets\n",
    "tweets_sampled = tweets.sample(n=NUM_SAMPLES, replace=False, random_state=1)"
   ]
  },
  {
   "cell_type": "code",
   "execution_count": 21,
   "metadata": {
    "tags": []
   },
   "outputs": [],
   "source": [
    "# Sampling news\n",
    "news_sampled = news.sample(n=NUM_SAMPLES, replace=False, random_state=1)"
   ]
  },
  {
   "cell_type": "markdown",
   "metadata": {
    "tags": []
   },
   "source": [
    "### Split Checking"
   ]
  },
  {
   "cell_type": "markdown",
   "metadata": {
    "tags": []
   },
   "source": [
    "#### NYT Data"
   ]
  },
  {
   "cell_type": "code",
   "execution_count": 22,
   "metadata": {
    "tags": []
   },
   "outputs": [],
   "source": [
    "# Computing the normalized counts (i.e. percentage)\n",
    "news_sampled_normalized = news_sampled[['label']].value_counts(normalize=True).to_frame().reset_index()\n",
    "\n",
    "# Fixing column names\n",
    "news_sampled_normalized.columns = news_sampled_normalized.columns = [\"Label\", \"Percentage\"]"
   ]
  },
  {
   "cell_type": "code",
   "execution_count": 23,
   "metadata": {
    "tags": []
   },
   "outputs": [],
   "source": [
    "# Computing the normalized counts (i.e. percentage)\n",
    "news_sampled_counts= news_sampled[['label']].value_counts().to_frame().reset_index()\n",
    "\n",
    "# Fixing column names\n",
    "news_sampled_counts.columns = news_sampled_counts.columns = [\"Label\", \"Count\"]"
   ]
  },
  {
   "cell_type": "code",
   "execution_count": 24,
   "metadata": {
    "tags": []
   },
   "outputs": [],
   "source": [
    "# Merging data together to create 1 table\n",
    "news_sampled_stats = news_sampled_counts.merge(news_sampled_normalized, on=\"Label\")"
   ]
  },
  {
   "cell_type": "code",
   "execution_count": 25,
   "metadata": {
    "tags": []
   },
   "outputs": [],
   "source": [
    "# Adding positive and negative examples\n",
    "news_sampled_stats[\"Example\"] = [news_sampled.iloc[-2,:][\"sequence\"], news_sampled.iloc[-5,:][\"sequence\"]]"
   ]
  },
  {
   "cell_type": "code",
   "execution_count": 26,
   "metadata": {
    "tags": []
   },
   "outputs": [],
   "source": [
    "news_sampled_stats[['Label']] = news_sampled_stats[['Label']].replace([\"negative\", \"positive\"],[\"Negative\", \"Positive\"])"
   ]
  },
  {
   "cell_type": "code",
   "execution_count": 27,
   "metadata": {
    "tags": []
   },
   "outputs": [],
   "source": [
    "# Setting index\n",
    "news_sampled_stats.set_index(\"Label\", inplace=True)"
   ]
  },
  {
   "cell_type": "code",
   "execution_count": 28,
   "metadata": {
    "tags": []
   },
   "outputs": [
    {
     "name": "stderr",
     "output_type": "stream",
     "text": [
      "[0330/104550.841835:WARNING:bluez_dbus_manager.cc(247)] Floss manager not present, cannot set Floss enable/disable.\n",
      "[0330/104550.844285:WARNING:sandbox_linux.cc(393)] InitializeSandbox() called with multiple threads in process gpu-process.\n",
      "[0330/104550.949364:INFO:headless_shell.cc(107)] 31066 bytes written to file /tmp/tmp35_k1eii/temp.png\n"
     ]
    }
   ],
   "source": [
    "# Setting styles and writing table to png\n",
    "news_sampled_stats[\"Percentage\"] = news_sampled_stats[\"Percentage\"].round(2).astype(str)\n",
    "news_sampled_stats = news_sampled_stats.style.set_table_styles([dict(selector='th', props=[('text-align', 'center')])])\n",
    "news_sampled_stats = news_sampled_stats.set_properties(subset=['Example'], **{'width': '200px'})\n",
    "news_sampled_stats = news_sampled_stats.set_properties(**{'text-align': 'center'})\n",
    "dfi.export(news_sampled_stats, 'results/news_stats.png')"
   ]
  },
  {
   "cell_type": "markdown",
   "metadata": {
    "tags": []
   },
   "source": [
    "#### Twittter Data"
   ]
  },
  {
   "cell_type": "code",
   "execution_count": 29,
   "metadata": {
    "tags": []
   },
   "outputs": [],
   "source": [
    "# Computing the normalized counts (i.e. percentage)\n",
    "tweets_sampled_normalized = tweets_sampled[['label']].value_counts(normalize=True).to_frame().reset_index()\n",
    "\n",
    "# Fixing column names\n",
    "tweets_sampled_normalized.columns = tweets_sampled_normalized.columns = [\"Label\", \"Percentage\"]"
   ]
  },
  {
   "cell_type": "code",
   "execution_count": 30,
   "metadata": {
    "tags": []
   },
   "outputs": [],
   "source": [
    "# Computing the normalized counts (i.e. percentage)\n",
    "tweets_sampled_counts= tweets_sampled[['label']].value_counts().to_frame().reset_index()\n",
    "\n",
    "# Fixing column names\n",
    "tweets_sampled_counts.columns = tweets_sampled_counts.columns = [\"Label\", \"Count\"]"
   ]
  },
  {
   "cell_type": "code",
   "execution_count": 31,
   "metadata": {
    "tags": []
   },
   "outputs": [],
   "source": [
    "# Merging data together to create 1 table\n",
    "tweets_sampled_stats = tweets_sampled_counts.merge(tweets_sampled_normalized, on=\"Label\")"
   ]
  },
  {
   "cell_type": "code",
   "execution_count": 32,
   "metadata": {
    "tags": []
   },
   "outputs": [],
   "source": [
    "# Adding positive and negative examples\n",
    "tweets_sampled_stats[\"Example\"] = [tweets_sampled.iloc[0,:][\"sequence\"], tweets_sampled.iloc[42,:][\"sequence\"]]"
   ]
  },
  {
   "cell_type": "code",
   "execution_count": 33,
   "metadata": {
    "tags": []
   },
   "outputs": [],
   "source": [
    "tweets_sampled_stats[['Label']] = tweets_sampled_stats[['Label']].replace([\"negative\", \"positive\"],[\"Negative\", \"Positive\"])"
   ]
  },
  {
   "cell_type": "code",
   "execution_count": 35,
   "metadata": {
    "tags": []
   },
   "outputs": [],
   "source": [
    "# Setting index\n",
    "tweets_sampled_stats.set_index(\"Label\", inplace=True)"
   ]
  },
  {
   "cell_type": "code",
   "execution_count": 36,
   "metadata": {
    "tags": []
   },
   "outputs": [
    {
     "name": "stderr",
     "output_type": "stream",
     "text": [
      "[0330/104602.973732:WARNING:bluez_dbus_manager.cc(247)] Floss manager not present, cannot set Floss enable/disable.\n",
      "[0330/104602.982852:WARNING:sandbox_linux.cc(393)] InitializeSandbox() called with multiple threads in process gpu-process.\n",
      "[0330/104603.085853:INFO:headless_shell.cc(107)] 28779 bytes written to file /tmp/tmp83s77aom/temp.png\n"
     ]
    }
   ],
   "source": [
    "# Setting styles and writing table to png\n",
    "tweets_sampled_stats[\"Percentage\"] = tweets_sampled_stats[\"Percentage\"].round(2).astype(str)\n",
    "tweets_sampled_stats = tweets_sampled_stats.style.set_table_styles([dict(selector='th', props=[('text-align', 'center')])])\n",
    "('max-width', '5')\n",
    "tweets_sampled_stats = tweets_sampled_stats.set_properties(subset=['Example'], **{'width': '200px'})\n",
    "tweets_sampled_stats = tweets_sampled_stats.set_properties(**{'text-align': 'center'})\n",
    "dfi.export(tweets_sampled_stats, 'results/tweets_stats.png')"
   ]
  },
  {
   "cell_type": "markdown",
   "metadata": {
    "tags": []
   },
   "source": [
    "### Split Sampling"
   ]
  },
  {
   "cell_type": "code",
   "execution_count": 38,
   "metadata": {
    "tags": []
   },
   "outputs": [],
   "source": [
    "# Defining the data ratios for each split\n",
    "TRAIN_DATA_FRACTION = 0.7\n",
    "VAL_DATA_FRACTION = 0.1\n",
    "TEST_DATA_FRACTION = 0.2"
   ]
  },
  {
   "cell_type": "markdown",
   "metadata": {
    "tags": []
   },
   "source": [
    "#### Twitter"
   ]
  },
  {
   "cell_type": "code",
   "execution_count": 39,
   "metadata": {
    "tags": []
   },
   "outputs": [],
   "source": [
    "# Computing the split sizes\n",
    "TRAIN_DATA_SIZE = int(TRAIN_DATA_FRACTION * len(tweets_sampled))\n",
    "VAL_DATA_SIZE = int(VAL_DATA_FRACTION * len(tweets_sampled))\n",
    "Test_DATA_SIZE = int(TEST_DATA_FRACTION * len(tweets_sampled))"
   ]
  },
  {
   "cell_type": "code",
   "execution_count": 40,
   "metadata": {
    "tags": []
   },
   "outputs": [],
   "source": [
    "tweets_sampled = tweets_sampled.reset_index(drop=True)"
   ]
  },
  {
   "cell_type": "code",
   "execution_count": 41,
   "metadata": {
    "tags": []
   },
   "outputs": [],
   "source": [
    "# Sampling training set\n",
    "tweets_sampled_train = tweets_sampled.sample(n=TRAIN_DATA_SIZE, replace=False, random_state=1)"
   ]
  },
  {
   "cell_type": "code",
   "execution_count": 42,
   "metadata": {
    "tags": []
   },
   "outputs": [],
   "source": [
    "# Removing training set\n",
    "tweets_sampled_reduced = tweets_sampled.drop(tweets_sampled_train.index).reset_index(drop=True)"
   ]
  },
  {
   "cell_type": "code",
   "execution_count": 43,
   "metadata": {
    "tags": []
   },
   "outputs": [],
   "source": [
    "# Sampling validation set\n",
    "tweets_sampled_val = tweets_sampled_reduced.sample(n=VAL_DATA_SIZE, replace=False, random_state=1)"
   ]
  },
  {
   "cell_type": "code",
   "execution_count": 44,
   "metadata": {
    "tags": []
   },
   "outputs": [],
   "source": [
    "# Removing validation set\n",
    "tweets_sampled_test = tweets_sampled_reduced.drop(tweets_sampled_val.index)"
   ]
  },
  {
   "cell_type": "code",
   "execution_count": 45,
   "metadata": {
    "tags": []
   },
   "outputs": [],
   "source": [
    "# Adjusting labels to (0,1) for model input\n",
    "tweets_sampled_train[['label']] = tweets_sampled_train[['label']].replace([\"negative\", \"positive\"],[0, 1])\n",
    "tweets_sampled_val[['label']] = tweets_sampled_val[['label']].replace([\"negative\", \"positive\"],[0, 1])\n",
    "tweets_sampled_test[['label']] = tweets_sampled_test[['label']].replace([\"negative\", \"positive\"],[0, 1])"
   ]
  },
  {
   "cell_type": "code",
   "execution_count": 46,
   "metadata": {
    "tags": []
   },
   "outputs": [],
   "source": [
    "tweets_sampled_train.to_csv(f\"results/train_{NUM_SAMPLES}_tweets.csv\", index=False)\n",
    "tweets_sampled_val.to_csv(f\"results/val_{NUM_SAMPLES}_tweets.csv\", index=False)\n",
    "tweets_sampled_test.to_csv(f\"results/test_{NUM_SAMPLES}_tweets.csv\", index=False)"
   ]
  },
  {
   "cell_type": "markdown",
   "metadata": {
    "tags": []
   },
   "source": [
    "#### NYT"
   ]
  },
  {
   "cell_type": "code",
   "execution_count": 47,
   "metadata": {
    "tags": []
   },
   "outputs": [],
   "source": [
    "# Computing the split sizes\n",
    "TRAIN_DATA_SIZE = int(TRAIN_DATA_FRACTION * len(news_sampled))\n",
    "VAL_DATA_SIZE = int(VAL_DATA_FRACTION * len(news_sampled))\n",
    "Test_DATA_SIZE = int(TEST_DATA_FRACTION * len(news_sampled))"
   ]
  },
  {
   "cell_type": "code",
   "execution_count": 48,
   "metadata": {
    "tags": []
   },
   "outputs": [],
   "source": [
    "news_sampled = news_sampled.reset_index(drop=True)"
   ]
  },
  {
   "cell_type": "code",
   "execution_count": 49,
   "metadata": {
    "tags": []
   },
   "outputs": [],
   "source": [
    "# Sampling training set\n",
    "news_sampled_train = news_sampled.sample(n=TRAIN_DATA_SIZE, replace=False, random_state=1)"
   ]
  },
  {
   "cell_type": "code",
   "execution_count": 50,
   "metadata": {
    "tags": []
   },
   "outputs": [],
   "source": [
    "# Removing training set\n",
    "news_sampled_reduced = news_sampled.drop(news_sampled_train.index).reset_index(drop=True)"
   ]
  },
  {
   "cell_type": "code",
   "execution_count": 51,
   "metadata": {
    "tags": []
   },
   "outputs": [],
   "source": [
    "# Sampling validation set\n",
    "news_sampled_val = news_sampled_reduced.sample(n=VAL_DATA_SIZE, replace=False, random_state=1)"
   ]
  },
  {
   "cell_type": "code",
   "execution_count": 52,
   "metadata": {
    "tags": []
   },
   "outputs": [],
   "source": [
    "# Removing validation set\n",
    "news_sampled_test = news_sampled_reduced.drop(news_sampled_val.index)"
   ]
  },
  {
   "cell_type": "code",
   "execution_count": 53,
   "metadata": {
    "tags": []
   },
   "outputs": [],
   "source": [
    "# Adjusting labels to (0,1) for model input\n",
    "news_sampled_train[['label']] = news_sampled_train[['label']].replace([\"negative\", \"positive\"],[0, 1])\n",
    "news_sampled_val[['label']] = news_sampled_val[['label']].replace([\"negative\", \"positive\"],[0, 1])\n",
    "news_sampled_test[['label']] = news_sampled_test[['label']].replace([\"negative\", \"positive\"],[0, 1])"
   ]
  },
  {
   "cell_type": "code",
   "execution_count": 54,
   "metadata": {
    "tags": []
   },
   "outputs": [],
   "source": [
    "news_sampled_train.to_csv(f\"results/train_{NUM_SAMPLES}_news.csv\", index=False)\n",
    "news_sampled_val.to_csv(f\"results/val_{NUM_SAMPLES}_news.csv\", index=False)\n",
    "news_sampled_test.to_csv(f\"results/test_{NUM_SAMPLES}_news.csv\", index=False)"
   ]
  },
  {
   "cell_type": "markdown",
   "metadata": {
    "tags": []
   },
   "source": [
    "## Data Merging (Cont)"
   ]
  },
  {
   "cell_type": "code",
   "execution_count": 55,
   "metadata": {
    "tags": []
   },
   "outputs": [],
   "source": [
    "# Merging splits\n",
    "train = pd.concat([tweets_sampled_train, news_sampled_train])\n",
    "test = pd.concat([tweets_sampled_test, news_sampled_test])\n",
    "val = pd.concat([tweets_sampled_val, news_sampled_val])"
   ]
  },
  {
   "cell_type": "markdown",
   "metadata": {
    "tags": []
   },
   "source": [
    "## Split Statistics"
   ]
  },
  {
   "cell_type": "code",
   "execution_count": 116,
   "metadata": {
    "tags": []
   },
   "outputs": [],
   "source": [
    "# Creating list to hold splits\n",
    "stats = []\n",
    "\n",
    "# Iterating through each split\n",
    "for split in [train, val, test]:\n",
    "    \n",
    "    # Computing the normalized counts (i.e. percentage)\n",
    "    split_counts_normalized = split[['label']].value_counts(normalize=True).to_frame().reset_index()\n",
    "\n",
    "    # Fixing column names\n",
    "    split_counts_normalized.columns = split_counts_normalized.columns = [\"Label\", \"Percentage\"]\n",
    "    \n",
    "    # Computing the normalized counts (i.e. percentage)\n",
    "    split_counts= split[['label']].value_counts().to_frame().reset_index()\n",
    "\n",
    "    # Fixing column names\n",
    "    split_counts.columns = split_counts.columns = [\"Label\", \"Count\"]\n",
    "    \n",
    "    # Merging data together to create 1 table\n",
    "    split_stats = split_counts.merge(split_counts_normalized, on=\"Label\")\n",
    "    \n",
    "    # Adding the split stats\n",
    "    stats.append(split_stats)"
   ]
  },
  {
   "cell_type": "code",
   "execution_count": 117,
   "metadata": {
    "tags": []
   },
   "outputs": [],
   "source": [
    "# Merging the stats together\n",
    "stats = pd.concat(stats)"
   ]
  },
  {
   "cell_type": "code",
   "execution_count": 118,
   "metadata": {
    "tags": []
   },
   "outputs": [],
   "source": [
    "# Replacing labels\n",
    "stats['Label'] = stats['Label'].replace([0, 1], [\"Negative\", \"Positive\"])"
   ]
  },
  {
   "cell_type": "code",
   "execution_count": 119,
   "metadata": {
    "tags": []
   },
   "outputs": [],
   "source": [
    "# Creating multilevel index\n",
    "split_types = [\"Train\", \"Train\", \"Validation\", \"Validation\", \"Test\", \"Test\"]\n",
    "index = list(zip(split_types, stats['Label'].values))\n",
    "stats.index = pd.MultiIndex.from_tuples(index)"
   ]
  },
  {
   "cell_type": "code",
   "execution_count": 120,
   "metadata": {
    "tags": []
   },
   "outputs": [],
   "source": [
    "# Some formatting\n",
    "stats[['Percentage']] = stats[['Percentage']].round(2).astype(str)"
   ]
  },
  {
   "cell_type": "code",
   "execution_count": 121,
   "metadata": {
    "tags": []
   },
   "outputs": [],
   "source": [
    "stats = stats.drop('Label', axis=1)"
   ]
  },
  {
   "cell_type": "code",
   "execution_count": 122,
   "metadata": {
    "tags": []
   },
   "outputs": [
    {
     "name": "stderr",
     "output_type": "stream",
     "text": [
      "[0330/103923.144418:WARNING:bluez_dbus_manager.cc(247)] Floss manager not present, cannot set Floss enable/disable.\n",
      "[0330/103923.149495:WARNING:sandbox_linux.cc(393)] InitializeSandbox() called with multiple threads in process gpu-process.\n",
      "[0330/103923.263196:INFO:headless_shell.cc(107)] 28636 bytes written to file /tmp/tmp1dbz_w5y/temp.png\n"
     ]
    }
   ],
   "source": [
    "# Setting styles and writing to disk\n",
    "stats = stats.style.set_table_styles([dict(selector='th', props=[('text-align', 'center')])])\n",
    "stats = stats.set_properties(**{'text-align': 'center'})\n",
    "dfi.export(stats, 'results/split_stats.png')"
   ]
  },
  {
   "cell_type": "markdown",
   "metadata": {},
   "source": [
    "## Outputting Data"
   ]
  },
  {
   "cell_type": "code",
   "execution_count": 57,
   "metadata": {
    "tags": []
   },
   "outputs": [],
   "source": [
    "# Adjusting labels to (0,1) for model input\n",
    "train[['label']] = train[['label']].replace([\"negative\", \"positive\"],[0, 1])\n",
    "val[['label']] = val[['label']].replace([\"negative\", \"positive\"],[0, 1])\n",
    "test[['label']] = test[['label']].replace([\"negative\", \"positive\"],[0, 1])"
   ]
  },
  {
   "cell_type": "code",
   "execution_count": 58,
   "metadata": {
    "tags": []
   },
   "outputs": [],
   "source": [
    "train.to_csv(f\"results/train_{NUM_SAMPLES}.csv\", index=False)\n",
    "val.to_csv(f\"results/val_{NUM_SAMPLES}.csv\", index=False)\n",
    "test.to_csv(f\"results/test_{NUM_SAMPLES}.csv\", index=False)"
   ]
  },
  {
   "cell_type": "code",
   "execution_count": null,
   "metadata": {},
   "outputs": [],
   "source": []
  }
 ],
 "metadata": {
  "kernelspec": {
   "display_name": "Python 3 (ipykernel)",
   "language": "python",
   "name": "python3"
  },
  "language_info": {
   "codemirror_mode": {
    "name": "ipython",
    "version": 3
   },
   "file_extension": ".py",
   "mimetype": "text/x-python",
   "name": "python",
   "nbconvert_exporter": "python",
   "pygments_lexer": "ipython3",
   "version": "3.10.6"
  }
 },
 "nbformat": 4,
 "nbformat_minor": 4
}
