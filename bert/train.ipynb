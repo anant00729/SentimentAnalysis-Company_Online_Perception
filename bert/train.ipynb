{
 "cells": [
  {
   "cell_type": "markdown",
   "metadata": {
    "tags": []
   },
   "source": [
    "## BERT Training Notebook\n",
    "This notebook contains the code to train the bert model"
   ]
  },
  {
   "cell_type": "markdown",
   "metadata": {},
   "source": [
    "## Modules"
   ]
  },
  {
   "cell_type": "code",
   "execution_count": 19,
   "metadata": {
    "tags": []
   },
   "outputs": [],
   "source": [
    "import pandas as pd\n",
    "from transformers import AutoTokenizer\n",
    "from transformers import AutoModelForSequenceClassification\n",
    "from torch.utils.data import DataLoader, Dataset\n",
    "from torch.optim import AdamW\n",
    "from transformers import get_scheduler, get_cosine_schedule_with_warmup, get_linear_schedule_with_warmup\n",
    "from tqdm.auto import tqdm\n",
    "from my_dataset import My_Dataset\n",
    "import dataframe_image as dfi\n",
    "import torch\n",
    "import time\n",
    "import evaluate\n",
    "import matplotlib.pyplot as plt"
   ]
  },
  {
   "cell_type": "markdown",
   "metadata": {},
   "source": [
    "## Data Loading"
   ]
  },
  {
   "cell_type": "code",
   "execution_count": 2,
   "metadata": {
    "tags": []
   },
   "outputs": [],
   "source": [
    "NUM_SAMPLES = 4000\n",
    "MODEL = \"bert-base-uncased\""
   ]
  },
  {
   "cell_type": "code",
   "execution_count": 3,
   "metadata": {
    "tags": []
   },
   "outputs": [],
   "source": [
    "# Loading the in the splits for each dataset\n",
    "train = pd.read_csv(f\"data/train_{NUM_SAMPLES}.csv\")\n",
    "test = pd.read_csv(f\"data/test_{NUM_SAMPLES}.csv\")\n",
    "val = pd.read_csv(f\"data/val_{NUM_SAMPLES}.csv\")"
   ]
  },
  {
   "cell_type": "markdown",
   "metadata": {
    "tags": []
   },
   "source": [
    "## Prepping Data"
   ]
  },
  {
   "cell_type": "code",
   "execution_count": 4,
   "metadata": {},
   "outputs": [],
   "source": [
    "# Getting the tokenzier to use\n",
    "tokenizer = AutoTokenizer.from_pretrained(MODEL)"
   ]
  },
  {
   "cell_type": "code",
   "execution_count": 5,
   "metadata": {
    "tags": []
   },
   "outputs": [],
   "source": [
    "# Defining function to compute the tokenization\n",
    "def tokenize_function(data):\n",
    "    # value = tokenizer(data[\"sequence\"], padding=\"max_length\", truncation=True)\n",
    "    # return value['input_ids'], value['token_type_ids'], value['attention_mask']\n",
    "    return tokenizer(data[\"sequence\"], padding=\"max_length\", truncation=True)\n",
    "\n",
    "def prep_data(df: pd.DataFrame) -> pd.DataFrame:\n",
    "    \"\"\"\n",
    "    Defining function that preps the data\n",
    "    \"\"\"\n",
    "    \n",
    "    # Applying the tokenizer on the inputs\n",
    "    tokenized_values = df.apply(tokenize_function, axis=1)\n",
    "    \n",
    "    # Splitting the results into a dataframe\n",
    "    tokenized_values = tokenized_values.apply(pd.Series)\n",
    "    \n",
    "    # Merging the tokenized values together\n",
    "    df = pd.concat([df,tokenized_values], axis=1)\n",
    "    \n",
    "    # Renaming columns\n",
    "    df = df.rename(columns = {\"label\": \"labels\"})\n",
    "    \n",
    "    # Dropping columns\n",
    "    df = df.drop(['sequence'],axis=1)\n",
    "    \n",
    "    \n",
    "    \n",
    "    # Returning the dataset\n",
    "    return df"
   ]
  },
  {
   "cell_type": "code",
   "execution_count": 6,
   "metadata": {
    "tags": []
   },
   "outputs": [],
   "source": [
    "# Prepping the data\n",
    "train = prep_data(train)\n",
    "test = prep_data(test)\n",
    "val = prep_data(val)"
   ]
  },
  {
   "cell_type": "code",
   "execution_count": 7,
   "metadata": {
    "tags": []
   },
   "outputs": [],
   "source": [
    "# Defining the data as pytorch datasets\n",
    "train_dataset = My_Dataset(train)\n",
    "val_dataset = My_Dataset(val)\n",
    "test_dataset = My_Dataset(test)"
   ]
  },
  {
   "cell_type": "code",
   "execution_count": 8,
   "metadata": {
    "tags": []
   },
   "outputs": [],
   "source": [
    "train_dataloader = DataLoader(train_dataset, shuffle=True, batch_size=16)\n",
    "val_dataloader = DataLoader(val_dataset, batch_size=8)\n",
    "test_dataloader = DataLoader(test_dataset, batch_size=8)"
   ]
  },
  {
   "cell_type": "markdown",
   "metadata": {},
   "source": [
    "## Prepping Model Training"
   ]
  },
  {
   "cell_type": "code",
   "execution_count": 9,
   "metadata": {
    "tags": []
   },
   "outputs": [
    {
     "name": "stderr",
     "output_type": "stream",
     "text": [
      "Some weights of the model checkpoint at bert-base-uncased were not used when initializing BertForSequenceClassification: ['cls.predictions.transform.dense.bias', 'cls.seq_relationship.weight', 'cls.seq_relationship.bias', 'cls.predictions.transform.dense.weight', 'cls.predictions.bias', 'cls.predictions.transform.LayerNorm.bias', 'cls.predictions.decoder.weight', 'cls.predictions.transform.LayerNorm.weight']\n",
      "- This IS expected if you are initializing BertForSequenceClassification from the checkpoint of a model trained on another task or with another architecture (e.g. initializing a BertForSequenceClassification model from a BertForPreTraining model).\n",
      "- This IS NOT expected if you are initializing BertForSequenceClassification from the checkpoint of a model that you expect to be exactly identical (initializing a BertForSequenceClassification model from a BertForSequenceClassification model).\n",
      "Some weights of BertForSequenceClassification were not initialized from the model checkpoint at bert-base-uncased and are newly initialized: ['classifier.bias', 'classifier.weight']\n",
      "You should probably TRAIN this model on a down-stream task to be able to use it for predictions and inference.\n"
     ]
    }
   ],
   "source": [
    "model = AutoModelForSequenceClassification.from_pretrained(MODEL, num_labels=2)"
   ]
  },
  {
   "cell_type": "code",
   "execution_count": 10,
   "metadata": {},
   "outputs": [],
   "source": [
    "LEARNING_RATE = 5e-5"
   ]
  },
  {
   "cell_type": "code",
   "execution_count": 11,
   "metadata": {
    "tags": []
   },
   "outputs": [],
   "source": [
    "optimizer = AdamW(model.parameters(), lr=LEARNING_RATE)"
   ]
  },
  {
   "cell_type": "code",
   "execution_count": 12,
   "metadata": {
    "tags": []
   },
   "outputs": [],
   "source": [
    "num_epochs = 8\n",
    "num_warmup_steps = len(train_dataloader)\n",
    "num_training_steps = num_epochs * len(train_dataloader) - num_warmup_steps\n",
    "# lr_scheduler = get_scheduler(\n",
    "#     name=\"linear\", optimizer=optimizer, num_warmup_steps=0, num_training_steps=num_training_steps\n",
    "# )\n",
    "\n",
    "lr_scheduler = get_cosine_schedule_with_warmup(\n",
    "    optimizer=optimizer, num_warmup_steps=num_warmup_steps, num_training_steps=num_training_steps\n",
    ")\n",
    "\n",
    "# lr_scheduler = get_linear_schedule_with_warmup(\n",
    "#     optimizer=optimizer, num_warmup_steps=num_warmup_steps, num_training_steps=num_training_steps\n",
    "# )\n"
   ]
  },
  {
   "cell_type": "code",
   "execution_count": 13,
   "metadata": {
    "tags": []
   },
   "outputs": [],
   "source": [
    "device = torch.device(\"cuda\") if torch.cuda.is_available() else torch.device(\"cpu\")\n",
    "model = model.to(device)"
   ]
  },
  {
   "cell_type": "code",
   "execution_count": 14,
   "metadata": {
    "tags": []
   },
   "outputs": [],
   "source": [
    "Hyperparameters = [\"Epochs\", \"Learning Rate\", \"Learning Rate Schedule\", \"Number of Warmup Steps\", \"Batch Size\", \"Optimizer\" ]\n",
    "Values = [8, \"5e-5\", \"Cosine with Warmup\", \"1 epoch\", \"8\", \"AdamW\"]\n",
    "\n",
    "params = pd.DataFrame(list(zip(Hyperparameters, Values)), columns = [\"Hyperparameters\", \"Values\"])\n",
    "\n",
    "params = params.set_index(\"Hyperparameters\")"
   ]
  },
  {
   "cell_type": "code",
   "execution_count": 15,
   "metadata": {
    "tags": []
   },
   "outputs": [],
   "source": [
    "params = params.style.set_table_styles([dict(selector='th', props=[('text-align', 'center')])])"
   ]
  },
  {
   "cell_type": "code",
   "execution_count": 16,
   "metadata": {
    "tags": []
   },
   "outputs": [
    {
     "data": {
      "text/html": [
       "<style type=\"text/css\">\n",
       "#T_b2589 th {\n",
       "  text-align: center;\n",
       "}\n",
       "#T_b2589_row0_col0, #T_b2589_row1_col0, #T_b2589_row2_col0, #T_b2589_row3_col0, #T_b2589_row4_col0, #T_b2589_row5_col0 {\n",
       "  text-align: center;\n",
       "}\n",
       "</style>\n",
       "<table id=\"T_b2589\">\n",
       "  <thead>\n",
       "    <tr>\n",
       "      <th class=\"blank level0\" >&nbsp;</th>\n",
       "      <th id=\"T_b2589_level0_col0\" class=\"col_heading level0 col0\" >Values</th>\n",
       "    </tr>\n",
       "    <tr>\n",
       "      <th class=\"index_name level0\" >Hyperparameters</th>\n",
       "      <th class=\"blank col0\" >&nbsp;</th>\n",
       "    </tr>\n",
       "  </thead>\n",
       "  <tbody>\n",
       "    <tr>\n",
       "      <th id=\"T_b2589_level0_row0\" class=\"row_heading level0 row0\" >Epochs</th>\n",
       "      <td id=\"T_b2589_row0_col0\" class=\"data row0 col0\" >8</td>\n",
       "    </tr>\n",
       "    <tr>\n",
       "      <th id=\"T_b2589_level0_row1\" class=\"row_heading level0 row1\" >Learning Rate</th>\n",
       "      <td id=\"T_b2589_row1_col0\" class=\"data row1 col0\" >5e-5</td>\n",
       "    </tr>\n",
       "    <tr>\n",
       "      <th id=\"T_b2589_level0_row2\" class=\"row_heading level0 row2\" >Learning Rate Schedule</th>\n",
       "      <td id=\"T_b2589_row2_col0\" class=\"data row2 col0\" >Cosine with Warmup</td>\n",
       "    </tr>\n",
       "    <tr>\n",
       "      <th id=\"T_b2589_level0_row3\" class=\"row_heading level0 row3\" >Number of Warmup Steps</th>\n",
       "      <td id=\"T_b2589_row3_col0\" class=\"data row3 col0\" >1 epoch</td>\n",
       "    </tr>\n",
       "    <tr>\n",
       "      <th id=\"T_b2589_level0_row4\" class=\"row_heading level0 row4\" >Batch Size</th>\n",
       "      <td id=\"T_b2589_row4_col0\" class=\"data row4 col0\" >8</td>\n",
       "    </tr>\n",
       "    <tr>\n",
       "      <th id=\"T_b2589_level0_row5\" class=\"row_heading level0 row5\" >Optimizer</th>\n",
       "      <td id=\"T_b2589_row5_col0\" class=\"data row5 col0\" >AdamW</td>\n",
       "    </tr>\n",
       "  </tbody>\n",
       "</table>\n"
      ],
      "text/plain": [
       "<pandas.io.formats.style.Styler at 0x7f5903d56050>"
      ]
     },
     "execution_count": 16,
     "metadata": {},
     "output_type": "execute_result"
    }
   ],
   "source": [
    "params.set_properties(**{'text-align': 'center'})"
   ]
  },
  {
   "cell_type": "code",
   "execution_count": 17,
   "metadata": {
    "tags": []
   },
   "outputs": [
    {
     "name": "stderr",
     "output_type": "stream",
     "text": [
      "[0401/122340.271611:WARNING:bluez_dbus_manager.cc(247)] Floss manager not present, cannot set Floss enable/disable.\n",
      "[0401/122340.279650:WARNING:sandbox_linux.cc(393)] InitializeSandbox() called with multiple threads in process gpu-process.\n",
      "[0401/122340.379633:INFO:headless_shell.cc(107)] 28527 bytes written to file /tmp/tmpq2kb7jn3/temp.png\n"
     ]
    }
   ],
   "source": [
    "dfi.export(params, 'bert_training_params.png')"
   ]
  },
  {
   "cell_type": "code",
   "execution_count": 18,
   "metadata": {
    "tags": []
   },
   "outputs": [
    {
     "name": "stderr",
     "output_type": "stream",
     "text": [
      " 14%|████████████████████████████████▋                                                                                                                                                                                                    | 350/2450 [02:03<12:22,  2.83it/s]"
     ]
    },
    {
     "name": "stdout",
     "output_type": "stream",
     "text": [
      "[5e-05]\n",
      "Accuracy Train: {'accuracy': 0.9017857142857143}\n",
      "Accuracy Val: {'accuracy': 0.8225}\n",
      "Accuracy Test: {'accuracy': 0.81625}\n"
     ]
    },
    {
     "name": "stderr",
     "output_type": "stream",
     "text": [
      " 29%|█████████████████████████████████████████████████████████████████▍                                                                                                                                                                   | 700/2450 [05:07<09:56,  2.93it/s]"
     ]
    },
    {
     "name": "stdout",
     "output_type": "stream",
     "text": [
      "[4.665063509461097e-05]\n",
      "Accuracy Train: {'accuracy': 0.9514285714285714}\n",
      "Accuracy Val: {'accuracy': 0.8125}\n",
      "Accuracy Test: {'accuracy': 0.798125}\n"
     ]
    },
    {
     "name": "stderr",
     "output_type": "stream",
     "text": [
      " 43%|█████████████████████████████████████████████████████████████████████████████████████████████████▋                                                                                                                                  | 1050/2450 [08:15<07:54,  2.95it/s]"
     ]
    },
    {
     "name": "stdout",
     "output_type": "stream",
     "text": [
      "[3.7500000000000003e-05]\n",
      "Accuracy Train: {'accuracy': 0.9896428571428572}\n",
      "Accuracy Val: {'accuracy': 0.8225}\n",
      "Accuracy Test: {'accuracy': 0.809375}\n"
     ]
    },
    {
     "name": "stderr",
     "output_type": "stream",
     "text": [
      " 57%|██████████████████████████████████████████████████████████████████████████████████████████████████████████████████████████████████▎                                                                                                 | 1400/2450 [11:19<05:57,  2.94it/s]"
     ]
    },
    {
     "name": "stdout",
     "output_type": "stream",
     "text": [
      "[2.5e-05]\n",
      "Accuracy Train: {'accuracy': 0.9955357142857143}\n",
      "Accuracy Val: {'accuracy': 0.835}\n",
      "Accuracy Test: {'accuracy': 0.82125}\n"
     ]
    },
    {
     "name": "stderr",
     "output_type": "stream",
     "text": [
      " 71%|██████████████████████████████████████████████████████████████████████████████████████████████████████████████████████████████████████████████████████████████████▊                                                                 | 1750/2450 [14:24<03:56,  2.96it/s]"
     ]
    },
    {
     "name": "stdout",
     "output_type": "stream",
     "text": [
      "[1.2500000000000006e-05]\n",
      "Accuracy Train: {'accuracy': 0.9957142857142857}\n",
      "Accuracy Val: {'accuracy': 0.835}\n",
      "Accuracy Test: {'accuracy': 0.815}\n"
     ]
    },
    {
     "name": "stderr",
     "output_type": "stream",
     "text": [
      " 86%|███████████████████████████████████████████████████████████████████████████████████████████████████████████████████████████████████████████████████████████████████████████████████████████████████▍                                | 2100/2450 [17:29<01:58,  2.95it/s]"
     ]
    },
    {
     "name": "stdout",
     "output_type": "stream",
     "text": [
      "[3.3493649053890326e-06]\n",
      "Accuracy Train: {'accuracy': 0.9958928571428571}\n",
      "Accuracy Val: {'accuracy': 0.84}\n",
      "Accuracy Test: {'accuracy': 0.8175}\n"
     ]
    },
    {
     "name": "stderr",
     "output_type": "stream",
     "text": [
      "100%|████████████████████████████████████████████████████████████████████████████████████████████████████████████████████████████████████████████████████████████████████████████████████████████████████████████████████████████████████| 2450/2450 [20:34<00:00,  2.94it/s]"
     ]
    },
    {
     "name": "stdout",
     "output_type": "stream",
     "text": [
      "[0.0]\n",
      "Accuracy Train: {'accuracy': 0.9958928571428571}\n",
      "Accuracy Val: {'accuracy': 0.84}\n",
      "Accuracy Test: {'accuracy': 0.819375}\n"
     ]
    },
    {
     "name": "stderr",
     "output_type": "stream",
     "text": [
      "2800it [23:38,  2.95it/s]                                                                                                                                                                                                                                                    "
     ]
    },
    {
     "name": "stdout",
     "output_type": "stream",
     "text": [
      "[3.349364905389035e-06]\n",
      "Accuracy Train: {'accuracy': 0.9958928571428571}\n",
      "Accuracy Val: {'accuracy': 0.84}\n",
      "Accuracy Test: {'accuracy': 0.819375}\n"
     ]
    }
   ],
   "source": [
    "from tqdm.auto import tqdm\n",
    "\n",
    "progress_bar = tqdm(range(num_training_steps))\n",
    "\n",
    "accuracy_list_val = []\n",
    "accuracy_list_test = []\n",
    "loss_list = []\n",
    "\n",
    "model.train()\n",
    "for epoch in range(num_epochs):\n",
    "    loss_batch = []\n",
    "    for batch in train_dataloader:\n",
    "    \n",
    "        # Moving data to GPU\n",
    "        batch = {k: v.to(device) for k, v in batch.items()}\n",
    "       \n",
    "        \n",
    "        outputs = model(**batch)\n",
    "\n",
    "        loss = outputs.loss\n",
    "        loss.backward()\n",
    "        \n",
    "\n",
    "        optimizer.step()\n",
    "        lr_scheduler.step()\n",
    "        optimizer.zero_grad()\n",
    "        progress_bar.update(1)\n",
    "        \n",
    "        loss_batch.append(loss.item())\n",
    "        \n",
    "    loss_list.append(loss_batch)\n",
    "    \n",
    "    print(lr_scheduler.state_dict()['_last_lr'])        \n",
    "    \n",
    "    metric = evaluate.load(\"accuracy\")\n",
    "    model.eval()\n",
    "    for batch in train_dataloader:\n",
    "        batch = {k: v.to(device) for k, v in batch.items()}\n",
    "        with torch.no_grad():\n",
    "            outputs = model(**batch)\n",
    "\n",
    "        logits = outputs.logits\n",
    "        predictions = torch.argmax(logits, dim=-1)\n",
    "        metric.add_batch(predictions=predictions, references=batch[\"labels\"])\n",
    "\n",
    "\n",
    "    accuracy = metric.compute()\n",
    "    print(\"Accuracy Train:\", accuracy)\n",
    "        \n",
    "    metric = evaluate.load(\"accuracy\")\n",
    "    model.eval()\n",
    "    for batch in val_dataloader:\n",
    "        batch = {k: v.to(device) for k, v in batch.items()}\n",
    "        with torch.no_grad():\n",
    "            outputs = model(**batch)\n",
    "\n",
    "        logits = outputs.logits\n",
    "        predictions = torch.argmax(logits, dim=-1)\n",
    "        metric.add_batch(predictions=predictions, references=batch[\"labels\"])\n",
    "\n",
    "\n",
    "    accuracy = metric.compute()\n",
    "    print(\"Accuracy Val:\", accuracy)\n",
    "    \n",
    "    metric = evaluate.load(\"accuracy\")\n",
    "    model.eval()\n",
    "    for batch in test_dataloader:\n",
    "        batch = {k: v.to(device) for k, v in batch.items()}\n",
    "        with torch.no_grad():\n",
    "            outputs = model(**batch)\n",
    "\n",
    "        logits = outputs.logits\n",
    "        predictions = torch.argmax(logits, dim=-1)\n",
    "        metric.add_batch(predictions=predictions, references=batch[\"labels\"])\n",
    "\n",
    "\n",
    "    accuracy = metric.compute()\n",
    "    print(\"Accuracy Test:\", accuracy)\n",
    "    \n",
    "    accuracy_list_test.append(accuracy)\n",
    "    \n",
    "    torch.save(\n",
    "        {\n",
    "            \"learning_rate\": lr_scheduler.state_dict()['_last_lr'],\n",
    "            'epoch': epoch,\n",
    "            'model_state_dict': model.state_dict(),\n",
    "            'optimizer_state_dict': optimizer.state_dict(),\n",
    "            'loss': loss_list,\n",
    "            'accuracy_val': accuracy_list_val,\n",
    "            'accuracy_test': accuracy_list_test\n",
    "        }, \n",
    "        f\"checkpoints/{MODEL}_{NUM_SAMPLES}_{epoch}.pt\"\n",
    "    )\n",
    "\n",
    "    \n",
    "  "
   ]
  },
  {
   "cell_type": "markdown",
   "metadata": {},
   "source": [
    "## Training Accuracy Curve"
   ]
  },
  {
   "cell_type": "code",
   "execution_count": 14,
   "metadata": {
    "tags": []
   },
   "outputs": [
    {
     "name": "stdout",
     "output_type": "stream",
     "text": [
      "Accuracy Train: {'accuracy': 0.9017857142857143}\n",
      "Accuracy Val: {'accuracy': 0.8225}\n",
      "Accuracy Train: {'accuracy': 0.9514285714285714}\n",
      "Accuracy Val: {'accuracy': 0.8125}\n",
      "Accuracy Train: {'accuracy': 0.9896428571428572}\n",
      "Accuracy Val: {'accuracy': 0.8225}\n",
      "Accuracy Train: {'accuracy': 0.9955357142857143}\n",
      "Accuracy Val: {'accuracy': 0.835}\n",
      "Accuracy Train: {'accuracy': 0.9957142857142857}\n",
      "Accuracy Val: {'accuracy': 0.835}\n",
      "Accuracy Train: {'accuracy': 0.9958928571428571}\n",
      "Accuracy Val: {'accuracy': 0.84}\n",
      "Accuracy Train: {'accuracy': 0.9958928571428571}\n",
      "Accuracy Val: {'accuracy': 0.84}\n",
      "Accuracy Train: {'accuracy': 0.9958928571428571}\n",
      "Accuracy Val: {'accuracy': 0.84}\n"
     ]
    }
   ],
   "source": [
    "accuracies = []\n",
    "\n",
    "for epoch in range(0,8):\n",
    "    \n",
    "    MODEL_CHECKPOINT = f\"checkpoints/bert-base-uncased_4000_{epoch}.pt\"\n",
    "    \n",
    "    state_dict = torch.load(MODEL_CHECKPOINT)\n",
    "    \n",
    "    model.load_state_dict(state_dict['model_state_dict'])\n",
    "    \n",
    "    metric = evaluate.load(\"accuracy\")\n",
    "    model.eval()\n",
    "    for batch in train_dataloader:\n",
    "        batch = {k: v.to(device) for k, v in batch.items()}\n",
    "        with torch.no_grad():\n",
    "            outputs = model(**batch)\n",
    "\n",
    "        logits = outputs.logits\n",
    "        predictions = torch.argmax(logits, dim=-1)\n",
    "        metric.add_batch(predictions=predictions, references=batch[\"labels\"])\n",
    "\n",
    "\n",
    "    accuracy_train = metric.compute()\n",
    "    \n",
    "    print(\"Accuracy Train:\", accuracy_train)\n",
    "    \n",
    "    metric = evaluate.load(\"accuracy\")\n",
    "    model.eval()\n",
    "    for batch in val_dataloader:\n",
    "        batch = {k: v.to(device) for k, v in batch.items()}\n",
    "        with torch.no_grad():\n",
    "            outputs = model(**batch)\n",
    "\n",
    "        logits = outputs.logits\n",
    "        predictions = torch.argmax(logits, dim=-1)\n",
    "        metric.add_batch(predictions=predictions, references=batch[\"labels\"])\n",
    "\n",
    "\n",
    "    accuracy_val = metric.compute()\n",
    "    print(\"Accuracy Val:\", accuracy_val)\n",
    "    \n",
    "    accuracies.append({\"Training\": accuracy_train['accuracy'], \"Validation\": accuracy_val['accuracy']})\n"
   ]
  },
  {
   "cell_type": "code",
   "execution_count": 15,
   "metadata": {
    "tags": []
   },
   "outputs": [],
   "source": [
    "# Converting to DF\n",
    "accuracies = pd.DataFrame(accuracies)"
   ]
  },
  {
   "cell_type": "code",
   "execution_count": 17,
   "metadata": {
    "tags": []
   },
   "outputs": [],
   "source": [
    "accuracies.index.name = \"Epoch\""
   ]
  },
  {
   "cell_type": "code",
   "execution_count": 20,
   "metadata": {
    "tags": []
   },
   "outputs": [],
   "source": [
    "# Writing to disk\n",
    "accuracies.to_csv(\"results/accuracies.csv\")"
   ]
  },
  {
   "cell_type": "code",
   "execution_count": 21,
   "metadata": {
    "tags": []
   },
   "outputs": [],
   "source": [
    "accuracies = pd.read_csv(\"results/accuracies.csv\")"
   ]
  },
  {
   "cell_type": "code",
   "execution_count": 22,
   "metadata": {
    "tags": []
   },
   "outputs": [
    {
     "data": {
      "text/html": [
       "<div>\n",
       "<style scoped>\n",
       "    .dataframe tbody tr th:only-of-type {\n",
       "        vertical-align: middle;\n",
       "    }\n",
       "\n",
       "    .dataframe tbody tr th {\n",
       "        vertical-align: top;\n",
       "    }\n",
       "\n",
       "    .dataframe thead th {\n",
       "        text-align: right;\n",
       "    }\n",
       "</style>\n",
       "<table border=\"1\" class=\"dataframe\">\n",
       "  <thead>\n",
       "    <tr style=\"text-align: right;\">\n",
       "      <th></th>\n",
       "      <th>Epoch</th>\n",
       "      <th>Training</th>\n",
       "      <th>Validation</th>\n",
       "    </tr>\n",
       "  </thead>\n",
       "  <tbody>\n",
       "    <tr>\n",
       "      <th>0</th>\n",
       "      <td>0</td>\n",
       "      <td>0.901786</td>\n",
       "      <td>0.8225</td>\n",
       "    </tr>\n",
       "    <tr>\n",
       "      <th>1</th>\n",
       "      <td>1</td>\n",
       "      <td>0.951429</td>\n",
       "      <td>0.8125</td>\n",
       "    </tr>\n",
       "    <tr>\n",
       "      <th>2</th>\n",
       "      <td>2</td>\n",
       "      <td>0.989643</td>\n",
       "      <td>0.8225</td>\n",
       "    </tr>\n",
       "    <tr>\n",
       "      <th>3</th>\n",
       "      <td>3</td>\n",
       "      <td>0.995536</td>\n",
       "      <td>0.8350</td>\n",
       "    </tr>\n",
       "    <tr>\n",
       "      <th>4</th>\n",
       "      <td>4</td>\n",
       "      <td>0.995714</td>\n",
       "      <td>0.8350</td>\n",
       "    </tr>\n",
       "    <tr>\n",
       "      <th>5</th>\n",
       "      <td>5</td>\n",
       "      <td>0.995893</td>\n",
       "      <td>0.8400</td>\n",
       "    </tr>\n",
       "    <tr>\n",
       "      <th>6</th>\n",
       "      <td>6</td>\n",
       "      <td>0.995893</td>\n",
       "      <td>0.8400</td>\n",
       "    </tr>\n",
       "    <tr>\n",
       "      <th>7</th>\n",
       "      <td>7</td>\n",
       "      <td>0.995893</td>\n",
       "      <td>0.8400</td>\n",
       "    </tr>\n",
       "  </tbody>\n",
       "</table>\n",
       "</div>"
      ],
      "text/plain": [
       "   Epoch  Training  Validation\n",
       "0      0  0.901786      0.8225\n",
       "1      1  0.951429      0.8125\n",
       "2      2  0.989643      0.8225\n",
       "3      3  0.995536      0.8350\n",
       "4      4  0.995714      0.8350\n",
       "5      5  0.995893      0.8400\n",
       "6      6  0.995893      0.8400\n",
       "7      7  0.995893      0.8400"
      ]
     },
     "execution_count": 22,
     "metadata": {},
     "output_type": "execute_result"
    }
   ],
   "source": [
    "accuracies"
   ]
  },
  {
   "cell_type": "code",
   "execution_count": 34,
   "metadata": {
    "tags": []
   },
   "outputs": [
    {
     "name": "stderr",
     "output_type": "stream",
     "text": [
      "/tmp/ipykernel_59832/2677567708.py:1: MatplotlibDeprecationWarning: The seaborn styles shipped by Matplotlib are deprecated since 3.6, as they no longer correspond to the styles shipped by seaborn. However, they will remain available as 'seaborn-v0_8-<style>'. Alternatively, directly use the seaborn API instead.\n",
      "  plt.style.use('seaborn-whitegrid')\n"
     ]
    },
    {
     "data": {
      "image/png": "[encoded data removed]",
      "text/plain": [
       "<Figure size 640x480 with 1 Axes>"
      ]
     },
     "metadata": {},
     "output_type": "display_data"
    }
   ],
   "source": [
    "plt.style.use('seaborn-whitegrid')\n",
    "plt.plot(accuracies['Epoch'], accuracies[\"Training\"], label=\"Training\")\n",
    "plt.plot(accuracies['Epoch'], accuracies[\"Validation\"], label=\"Validation\")\n",
    "\n",
    "# Add labels and title\n",
    "plt.xlabel('Epoch')\n",
    "plt.ylabel('Accuracy')\n",
    "\n",
    "plt.legend()\n",
    "\n",
    "plt.savefig(\"results/bert_model_accuracy_over_epoch.png\")"
   ]
  },
  {
   "cell_type": "code",
   "execution_count": null,
   "metadata": {},
   "outputs": [],
   "source": []
  }
 ],
 "metadata": {
  "kernelspec": {
   "display_name": "Python 3 (ipykernel)",
   "language": "python",
   "name": "python3"
  },
  "language_info": {
   "codemirror_mode": {
    "name": "ipython",
    "version": 3
   },
   "file_extension": ".py",
   "mimetype": "text/x-python",
   "name": "python",
   "nbconvert_exporter": "python",
   "pygments_lexer": "ipython3",
   "version": "3.10.6"
  }
 },
 "nbformat": 4,
 "nbformat_minor": 4
}
