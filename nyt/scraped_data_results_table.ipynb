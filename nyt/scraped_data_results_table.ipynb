{
 "cells": [
  {
   "cell_type": "markdown",
   "metadata": {
    "tags": []
   },
   "source": [
    "# NYT Data Notebook\n",
    "\n",
    "This notebook produces the table of results for the NYT data"
   ]
  },
  {
   "cell_type": "markdown",
   "metadata": {
    "tags": []
   },
   "source": [
    "## Modules"
   ]
  },
  {
   "cell_type": "code",
   "execution_count": 1,
   "metadata": {
    "tags": []
   },
   "outputs": [],
   "source": [
    "import pandas as pd\n",
    "import dataframe_image as dfi\n",
    "from datetime import datetime"
   ]
  },
  {
   "cell_type": "markdown",
   "metadata": {},
   "source": [
    "## Data Cleaning (Twitter API)"
   ]
  },
  {
   "cell_type": "markdown",
   "metadata": {
    "tags": []
   },
   "source": [
    "### Initial Data Summary"
   ]
  },
  {
   "cell_type": "code",
   "execution_count": 2,
   "metadata": {},
   "outputs": [],
   "source": [
    "def parse_datetime(dt_str: str):\n",
    "    \"\"\"\n",
    "    This function parses the datetime of a string into a python datetime\n",
    "    dt_str: Raw datetime string\n",
    "    returns: Datetime as a datetime type variable\n",
    "    \"\"\"\n",
    "    return datetime.strptime(dt_str,'%m/%d/%Y').date()"
   ]
  },
  {
   "cell_type": "code",
   "execution_count": 3,
   "metadata": {
    "tags": []
   },
   "outputs": [],
   "source": [
    "# Defining nicer looking companie labels\n",
    "company_mapping = {\n",
    "    \"adani group\":\"Adani Group\",\n",
    "    \"ftx\":\"FTX\",\n",
    "    \"microsoft\":\"Microsoft\",\n",
    "    \"google\":\"Google\",\n",
    "    \"air canada\":\"Air Canada\",\n",
    "    \"amazon\":\"Amazon\",\n",
    "    \"apple \":\"Apple \",\n",
    "    \"samsung\":\"Samsung\",\n",
    "    \"meta\":\"Meta\",\n",
    "    \"intel\":\"Intel\",\n",
    "    \"bose\":\"Bose\",\n",
    "    \"fia\":\"FIA\"\n",
    "}\n",
    "    "
   ]
  },
  {
   "cell_type": "code",
   "execution_count": 4,
   "metadata": {
    "tags": []
   },
   "outputs": [],
   "source": [
    "# Reading in the data\n",
    "nyt = pd.read_csv(\"data/Api_data.csv\", header=None)\n",
    "nyt.columns = columns=[\"company\", \"source\", \"date\", \"text\"]"
   ]
  },
  {
   "cell_type": "code",
   "execution_count": 5,
   "metadata": {
    "tags": []
   },
   "outputs": [],
   "source": [
    "companies = nyt[\"company\"].unique()\n",
    "\n",
    "nyt['date'] = nyt['date'].apply(lambda date: parse_datetime(date))\n",
    "\n",
    "data_all = []\n",
    "for company in companies:\n",
    "    \n",
    "    data = {}\n",
    "    \n",
    "    df = nyt[nyt[\"company\"] == company]\n",
    "    \n",
    "    \n",
    "    # Creating summary data\n",
    "    data['Company'] = company_mapping[company]\n",
    "    data['Start Date'] = df['date'].min()\n",
    "    data['End Date'] = df['date'].max()\n",
    "    data['Number of Articles'] = len(df)\n",
    "    \n",
    "    data_all.append(data)"
   ]
  },
  {
   "cell_type": "code",
   "execution_count": 6,
   "metadata": {
    "tags": []
   },
   "outputs": [],
   "source": [
    "# Converting to a pandas data frame\n",
    "data_summary = pd.DataFrame(data_all)"
   ]
  },
  {
   "cell_type": "code",
   "execution_count": 7,
   "metadata": {
    "tags": []
   },
   "outputs": [],
   "source": [
    "# Setting the index\n",
    "data_summary.set_index('Company', inplace=True)"
   ]
  },
  {
   "cell_type": "code",
   "execution_count": 8,
   "metadata": {
    "tags": []
   },
   "outputs": [],
   "source": [
    "# Removing unneeded companies\n",
    "data_summary = data_summary[data_summary.index.isin([\"Air Canada\",\"Microsoft\",  \"Meta\", \"FIA\", \"Adani Group\", \"FTX\"])]"
   ]
  },
  {
   "cell_type": "code",
   "execution_count": 9,
   "metadata": {
    "tags": []
   },
   "outputs": [
    {
     "name": "stdout",
     "output_type": "stream",
     "text": [
      "Total Number of Articles:  3834\n"
     ]
    }
   ],
   "source": [
    "# Getting the total number of articles\n",
    "print(\"Total Number of Articles: \", data_summary['Number of Articles'].sum())"
   ]
  },
  {
   "cell_type": "code",
   "execution_count": 10,
   "metadata": {
    "tags": []
   },
   "outputs": [
    {
     "name": "stderr",
     "output_type": "stream",
     "text": [
      "[0330/083843.862973:WARNING:bluez_dbus_manager.cc(247)] Floss manager not present, cannot set Floss enable/disable.\n",
      "[0330/083843.868142:WARNING:sandbox_linux.cc(393)] InitializeSandbox() called with multiple threads in process gpu-process.\n",
      "[0330/083843.971916:INFO:headless_shell.cc(107)] 35284 bytes written to file /tmp/tmpkxgb5ckr/temp.png\n"
     ]
    }
   ],
   "source": [
    "# Setting table styles and writing to disk\n",
    "data_summary = data_summary.style.set_table_styles([dict(selector='th', props=[('text-align', 'center')])])\n",
    "data_summary.set_properties(**{'text-align': 'center'})\n",
    "dfi.export(data_summary, 'results/nyt_data.png')"
   ]
  }
 ],
 "metadata": {
  "kernelspec": {
   "display_name": "Python 3 (ipykernel)",
   "language": "python",
   "name": "python3"
  },
  "language_info": {
   "codemirror_mode": {
    "name": "ipython",
    "version": 3
   },
   "file_extension": ".py",
   "mimetype": "text/x-python",
   "name": "python",
   "nbconvert_exporter": "python",
   "pygments_lexer": "ipython3",
   "version": "3.10.6"
  }
 },
 "nbformat": 4,
 "nbformat_minor": 4
}
